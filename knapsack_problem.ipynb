{
 "cells": [
  {
   "cell_type": "markdown",
   "metadata": {},
   "source": [
    "# Knapsack Problem\n",
    "#### Solving the classic knapsack problem: given a list of item weight and values, and a knapsack with a maximum weight capacity, which items should be taken in the knapsack to maximize the total value?\n",
    "Several algorithms are presented below: \n",
    "- Exhaustive brute force\n",
    "- dynamic programming\n",
    "- Branch and bound\n",
    "- Branch and bound with linear relaxation\n",
    "- OR-tool's knapsack solver\n",
    "\n",
    "I present an example where 19 items are given. As can be seen, all algorithms give the same answer. However, not all of these methods are scalable. In general, as you scroll down the page, the algorithms become more efficient. To expemplify this, two examples are given at the very bottom of the page: using brand and bound with linear relaxationi and OR-tools in order to solve a knapsack problem with 10,000 items."
   ]
  },
  {
   "cell_type": "code",
   "execution_count": 2,
   "metadata": {},
   "outputs": [],
   "source": [
    "import numpy as np\n",
    "import pandas as pd\n",
    "\n",
    "import itertools\n",
    "\n",
    "from progressbar import ProgressBar\n"
   ]
  },
  {
   "cell_type": "markdown",
   "metadata": {},
   "source": [
    "# Exhaustive Brute Force Search"
   ]
  },
  {
   "cell_type": "code",
   "execution_count": 5,
   "metadata": {},
   "outputs": [],
   "source": [
    "f = open('knapsack/data/ks_19_0', 'r')\n",
    "input_data = f.read()"
   ]
  },
  {
   "cell_type": "code",
   "execution_count": 6,
   "metadata": {},
   "outputs": [],
   "source": [
    "lines = input_data.split('\\n')\n",
    "\n",
    "firstLine = lines[0].split()\n",
    "item_count = int(firstLine[0])\n",
    "capacity = int(firstLine[1])\n",
    "\n",
    "\n",
    "weights = []\n",
    "values = []\n",
    "\n",
    "\n",
    "for i in range(1, item_count+1):\n",
    "    values.append(int(lines[i].split()[0]))\n",
    "    weights.append(int(lines[i].split()[1]))"
   ]
  },
  {
   "cell_type": "code",
   "execution_count": 7,
   "metadata": {},
   "outputs": [
    {
     "name": "stderr",
     "output_type": "stream",
     "text": [
      "100% |########################################################################|\n"
     ]
    }
   ],
   "source": [
    "all_solutions = list(itertools.product([0, 1], repeat=item_count))\n",
    "\n",
    "solution_values = [-10000] * (2**item_count)\n",
    "\n",
    "pbar = ProgressBar()\n",
    "\n",
    "for i in pbar(range(2**item_count)):\n",
    "    if sum([a*b for a,b in zip(weights, all_solutions[i])]) <= capacity:\n",
    "         solution_values[i] = sum([c*d for c,d in zip(values, all_solutions[i])])\n",
    "    "
   ]
  },
  {
   "cell_type": "code",
   "execution_count": 8,
   "metadata": {},
   "outputs": [
    {
     "name": "stdout",
     "output_type": "stream",
     "text": [
      "the optimal item selection is [0 0 1 0 0 1 0 1 0 0 0 0 1 1 0 0 0 0 0]\n",
      "the value is 12248\n"
     ]
    }
   ],
   "source": [
    "print('the optimal item selection is', np.array(all_solutions[np.argmax(solution_values)]))\n",
    "print('the value is', max(solution_values))"
   ]
  },
  {
   "cell_type": "markdown",
   "metadata": {},
   "source": [
    "# Dynamic Programming"
   ]
  },
  {
   "cell_type": "code",
   "execution_count": 9,
   "metadata": {},
   "outputs": [],
   "source": [
    "def O(k,j):\n",
    "    if j == 0:\n",
    "        return 0\n",
    "    elif weights[j] <= k:\n",
    "        return np.max([O(k,j-1), values[j]+ O(k-weights[j], j-1)])\n",
    "    else:\n",
    "        return O(k,j-1)"
   ]
  },
  {
   "cell_type": "code",
   "execution_count": 10,
   "metadata": {},
   "outputs": [],
   "source": [
    "f = open('knapsack/data/ks_19_0', 'r')\n",
    "input_data = f.read()"
   ]
  },
  {
   "cell_type": "code",
   "execution_count": 11,
   "metadata": {},
   "outputs": [],
   "source": [
    "lines = input_data.split('\\n')\n",
    "\n",
    "firstLine = lines[0].split()\n",
    "item_count = int(firstLine[0])\n",
    "capacity = int(firstLine[1])\n",
    "\n",
    "\n",
    "# the first entry in weights and values lists, 0, is a dummy entry that simplifies the recursion code a bit\n",
    "weights = [0]\n",
    "values = [0]\n",
    "\n",
    "\n",
    "for i in range(1, item_count+1):\n",
    "    values.append(int(lines[i].split()[0]))\n",
    "    weights.append(int(lines[i].split()[1]))"
   ]
  },
  {
   "cell_type": "code",
   "execution_count": 13,
   "metadata": {},
   "outputs": [],
   "source": [
    "pbar = ProgressBar()"
   ]
  },
  {
   "cell_type": "code",
   "execution_count": 14,
   "metadata": {},
   "outputs": [
    {
     "name": "stderr",
     "output_type": "stream",
     "text": [
      "100% |########################################################################|\n"
     ]
    }
   ],
   "source": [
    "#create empty table\n",
    "table = np.zeros((capacity+1,len(weights)))\n",
    "\n",
    "#run through the recursion \n",
    "for j in pbar(range(len(weights))):\n",
    "    for k in range(capacity+1):\n",
    "        table[k,j] = O(k,j)\n",
    "\n"
   ]
  },
  {
   "cell_type": "code",
   "execution_count": 15,
   "metadata": {},
   "outputs": [
    {
     "data": {
      "text/plain": [
       "array([[    0.,     0.,     0., ...,     0.,     0.,     0.],\n",
       "       [    0.,     0.,     0., ...,     0.,     0.,     0.],\n",
       "       [    0.,     0.,     0., ...,     0.,     0.,     0.],\n",
       "       ...,\n",
       "       [    0.,  1945.,  2266., ..., 12248., 12248., 12248.],\n",
       "       [    0.,  1945.,  2266., ..., 12248., 12248., 12248.],\n",
       "       [    0.,  1945.,  2266., ..., 12248., 12248., 12248.]])"
      ]
     },
     "execution_count": 15,
     "metadata": {},
     "output_type": "execute_result"
    }
   ],
   "source": [
    "table"
   ]
  },
  {
   "cell_type": "code",
   "execution_count": 16,
   "metadata": {},
   "outputs": [],
   "source": [
    "selection = np.zeros(len(weights))\n",
    "j_index = len(weights) - 1\n",
    "k_index = capacity"
   ]
  },
  {
   "cell_type": "code",
   "execution_count": 17,
   "metadata": {},
   "outputs": [],
   "source": [
    "for j in range(len(weights)):\n",
    "    if table[k_index, j_index - j] != table[k_index, j_index - j - 1]:\n",
    "        selection[j_index-j] = 1\n",
    "        k_index -= weights[j_index - j]\n",
    "        "
   ]
  },
  {
   "cell_type": "code",
   "execution_count": 18,
   "metadata": {},
   "outputs": [
    {
     "data": {
      "text/plain": [
       "array([0., 0., 0., 1., 0., 0., 1., 0., 1., 0., 0., 0., 0., 1., 1., 0., 0.,\n",
       "       0., 0., 0.])"
      ]
     },
     "execution_count": 18,
     "metadata": {},
     "output_type": "execute_result"
    }
   ],
   "source": [
    "selection"
   ]
  },
  {
   "cell_type": "code",
   "execution_count": 19,
   "metadata": {},
   "outputs": [
    {
     "data": {
      "text/plain": [
       "[0.0,\n",
       " 0.0,\n",
       " 1.0,\n",
       " 0.0,\n",
       " 0.0,\n",
       " 1.0,\n",
       " 0.0,\n",
       " 1.0,\n",
       " 0.0,\n",
       " 0.0,\n",
       " 0.0,\n",
       " 0.0,\n",
       " 1.0,\n",
       " 1.0,\n",
       " 0.0,\n",
       " 0.0,\n",
       " 0.0,\n",
       " 0.0,\n",
       " 0.0]"
      ]
     },
     "execution_count": 19,
     "metadata": {},
     "output_type": "execute_result"
    }
   ],
   "source": [
    "list(selection[1:])"
   ]
  },
  {
   "cell_type": "markdown",
   "metadata": {},
   "source": [
    "# Branch and Bound"
   ]
  },
  {
   "cell_type": "code",
   "execution_count": 20,
   "metadata": {},
   "outputs": [],
   "source": [
    "f = open('knapsack/data/ks_19_0', 'r')\n",
    "input_data = f.read()"
   ]
  },
  {
   "cell_type": "code",
   "execution_count": 21,
   "metadata": {},
   "outputs": [],
   "source": [
    "lines = input_data.split('\\n')\n",
    "\n",
    "firstLine = lines[0].split()\n",
    "item_count = int(firstLine[0])\n",
    "capacity = int(firstLine[1])\n",
    "\n",
    "\n",
    "weights = []\n",
    "values = []\n",
    "\n",
    "\n",
    "for i in range(1, item_count+1):\n",
    "    values.append(int(lines[i].split()[0]))\n",
    "    weights.append(int(lines[i].split()[1]))"
   ]
  },
  {
   "cell_type": "code",
   "execution_count": 22,
   "metadata": {},
   "outputs": [],
   "source": [
    "bucket = [[0] * item_count]\n",
    "best_value = 0\n",
    "optimal_answer = sum(values)\n",
    "current_level = 0"
   ]
  },
  {
   "cell_type": "code",
   "execution_count": 23,
   "metadata": {},
   "outputs": [
    {
     "name": "stdout",
     "output_type": "stream",
     "text": [
      "[0, 0, 1, 0, 0, 1, 0, 1, 0, 0, 0, 0, 1, 1, 0, 0, 0, 0, 0]\n",
      "12248\n"
     ]
    }
   ],
   "source": [
    "while len(bucket) != 0:\n",
    "    new_bucket = []\n",
    "    for i in range(len(bucket)):\n",
    "        \n",
    "        current_node = bucket[i]        \n",
    "       \n",
    "        #left node\n",
    "        weight_test_node = current_node.copy()\n",
    "        weight_test_node[current_level] = 1\n",
    "        \n",
    "        if (sum([a*b for a,b in zip(weights[0:current_level + 1], weight_test_node[0:current_level + 1])]) <= capacity):\n",
    "            \n",
    "            new_bucket.append(weight_test_node)\n",
    "            \n",
    "            test_value = sum([c*d for c,d in zip(values[0:current_level + 1], weight_test_node[0:current_level + 1])])\n",
    "            if test_value > best_value:\n",
    "                best_node = weight_test_node.copy()\n",
    "                best_value = test_value\n",
    "            \n",
    "        #right node\n",
    "        if (optimal_answer - sum([c*d for c,d in zip(values[0:current_level + 1], list(1 - np.array(current_node))[0:current_level + 1])]) > best_value):\n",
    "            new_bucket.append(current_node)\n",
    "            \n",
    "\n",
    "    \n",
    "    if current_level < item_count - 1:\n",
    "        current_level += 1\n",
    "\n",
    "        \n",
    "    else:\n",
    "        break\n",
    "    \n",
    "    bucket = new_bucket.copy()\n",
    "\n",
    "print(best_node)   \n",
    "print(best_value)"
   ]
  },
  {
   "cell_type": "markdown",
   "metadata": {},
   "source": [
    "## With Linear Relaxation"
   ]
  },
  {
   "cell_type": "code",
   "execution_count": 24,
   "metadata": {},
   "outputs": [],
   "source": [
    "f = open('knapsack/data/ks_19_0', 'r')\n",
    "input_data = f.read()"
   ]
  },
  {
   "cell_type": "code",
   "execution_count": 25,
   "metadata": {},
   "outputs": [],
   "source": [
    "lines = input_data.split('\\n')\n",
    "\n",
    "firstLine = lines[0].split()\n",
    "item_count = int(firstLine[0])\n",
    "capacity = int(firstLine[1])\n",
    "\n",
    "\n",
    "weights = []\n",
    "values = []\n",
    "\n",
    "\n",
    "for i in range(1, item_count+1):\n",
    "    values.append(int(lines[i].split()[0]))\n",
    "    weights.append(int(lines[i].split()[1]))"
   ]
  },
  {
   "cell_type": "code",
   "execution_count": 26,
   "metadata": {},
   "outputs": [],
   "source": [
    "#create a DataFrame table to 1) sort the items by value/weight and 2) capture the original order of the items so that we can put them in their original order at the end\n",
    "position_table = pd.DataFrame()\n",
    "position_table['Values'] = values\n",
    "position_table['Weights'] = weights\n",
    "position_table['original_order'] = range(item_count)\n",
    "position_table['value_per_weight'] = [a/b for a,b in zip(values, weights)]\n",
    "\n",
    "value_table = position_table.sort_values('value_per_weight', ascending = False).reset_index(drop = True)\n"
   ]
  },
  {
   "cell_type": "code",
   "execution_count": 27,
   "metadata": {},
   "outputs": [
    {
     "name": "stdout",
     "output_type": "stream",
     "text": [
      "12901.542093685946\n"
     ]
    }
   ],
   "source": [
    "#find an upper bound for the value of the knapsack\n",
    "\n",
    "current_capacity = capacity\n",
    "index = 0\n",
    "optimal_answer = 0\n",
    "\n",
    "while current_capacity > 0:\n",
    "    if value_table.Weights[index] <= current_capacity:\n",
    "        optimal_answer += value_table.Values[index]\n",
    "        current_capacity -= value_table.Weights[index]\n",
    "    else:\n",
    "        multiplier = current_capacity/value_table.Weights[index]\n",
    "        optimal_answer += value_table.Values[index] * multiplier\n",
    "        current_capacity -= value_table.Weights[index] * multiplier \n",
    "    index += 1\n",
    "\n",
    "    \n",
    "print(optimal_answer)"
   ]
  },
  {
   "cell_type": "code",
   "execution_count": 28,
   "metadata": {},
   "outputs": [],
   "source": [
    "#get the values and weights in the new order\n",
    "values = list(value_table.Values)\n",
    "weights = list(value_table.Weights)\n",
    "\n",
    "#start at the upper most node (aka taking NO items)\n",
    "bucket = [[0] * item_count]\n",
    "best_value = 0\n",
    "\n",
    "current_level = 0"
   ]
  },
  {
   "cell_type": "code",
   "execution_count": 29,
   "metadata": {},
   "outputs": [],
   "source": [
    "#when we choose NOT to include an item, check if the optimal evaluation is greater than the current best value\n",
    "def opt_eval():\n",
    "    \n",
    "    opt_capacity = capacity\n",
    "    opt_evaluation = 0\n",
    "\n",
    "    \n",
    "    index = 0\n",
    "    \n",
    "    while opt_capacity > 0 and index < item_count: \n",
    "        \n",
    "        if index in range(current_level + 1):\n",
    "            if current_node[index] == 1:\n",
    "            \n",
    "                opt_evaluation += value_table.Values[index]\n",
    "                opt_capacity -= value_table.Weights[index]\n",
    "          \n",
    "            \n",
    "        elif value_table.Weights[index] <= opt_capacity:\n",
    "            opt_evaluation += value_table.Values[index]\n",
    "            opt_capacity -= value_table.Weights[index]\n",
    "   \n",
    "            \n",
    "        else:\n",
    "            mult = opt_capacity/value_table.Weights[index]\n",
    "            opt_evaluation += value_table.Values[index] * mult\n",
    "            opt_capacity -= value_table.Weights[index] * mult \n",
    "        \n",
    "            \n",
    "        index += 1\n",
    "\n",
    "    return opt_evaluation > best_value\n",
    "\n"
   ]
  },
  {
   "cell_type": "code",
   "execution_count": 30,
   "metadata": {},
   "outputs": [
    {
     "name": "stdout",
     "output_type": "stream",
     "text": [
      "[0, 0, 1, 0, 0, 1, 0, 1, 0, 0, 0, 0, 1, 1, 0, 0, 0, 0, 0]\n",
      "12248\n"
     ]
    }
   ],
   "source": [
    "while len(bucket) != 0:\n",
    "    new_bucket = []\n",
    "    for i in range(len(bucket)):\n",
    "        \n",
    "        current_node = bucket[i]        \n",
    "       \n",
    "        #left node\n",
    "        weight_test_node = current_node.copy()\n",
    "        weight_test_node[current_level] = 1\n",
    "        \n",
    "        if (sum([a*b for a,b in zip(weights[0:current_level + 1], weight_test_node[0:current_level + 1])]) <= capacity):\n",
    "            \n",
    "            new_bucket.append(weight_test_node)\n",
    "            \n",
    "            test_value = sum([c*d for c,d in zip(values[0:current_level + 1], weight_test_node[0:current_level + 1])])\n",
    "            if test_value > best_value:\n",
    "                best_node = weight_test_node.copy()\n",
    "                best_value = test_value\n",
    "            \n",
    "        #right node\n",
    "        if opt_eval():\n",
    "            new_bucket.append(current_node)\n",
    "            \n",
    "\n",
    "    \n",
    "    if current_level < item_count - 1:\n",
    "        current_level += 1\n",
    "        \n",
    "        \n",
    "    else:\n",
    "        break\n",
    "        \n",
    "    #print(best_value)\n",
    "    #print(current_level)\n",
    "    bucket = new_bucket.copy()\n",
    "\n",
    "\n",
    "value_table['Answer'] = best_node\n",
    "print(list(value_table.sort_values('original_order').Answer))\n",
    "print(best_value)"
   ]
  },
  {
   "cell_type": "code",
   "execution_count": null,
   "metadata": {},
   "outputs": [],
   "source": []
  },
  {
   "cell_type": "markdown",
   "metadata": {},
   "source": [
    "# Using OR-Tools"
   ]
  },
  {
   "cell_type": "code",
   "execution_count": 4,
   "metadata": {},
   "outputs": [],
   "source": [
    "from __future__ import print_function\n",
    "from ortools.algorithms import pywrapknapsack_solver"
   ]
  },
  {
   "cell_type": "code",
   "execution_count": 32,
   "metadata": {},
   "outputs": [],
   "source": [
    "f = open('knapsack/data/ks_19_0', 'r')\n",
    "input_data = f.read()\n",
    "\n",
    "lines = input_data.split('\\n')\n",
    "\n",
    "firstLine = lines[0].split()\n",
    "item_count = int(firstLine[0])\n",
    "capacities = [int(firstLine[1])]\n",
    "\n",
    "\n",
    "weights = []\n",
    "values = []\n",
    "\n",
    "\n",
    "for i in range(1, item_count+1):\n",
    "    values.append(int(lines[i].split()[0]))\n",
    "    weights.append(int(lines[i].split()[1]))\n",
    "\n",
    "weights = [weights]"
   ]
  },
  {
   "cell_type": "code",
   "execution_count": 33,
   "metadata": {},
   "outputs": [],
   "source": [
    "solver = pywrapknapsack_solver.KnapsackSolver(\n",
    "    pywrapknapsack_solver.KnapsackSolver.\n",
    "    KNAPSACK_MULTIDIMENSION_BRANCH_AND_BOUND_SOLVER, 'KnapsackExample')"
   ]
  },
  {
   "cell_type": "code",
   "execution_count": 34,
   "metadata": {},
   "outputs": [
    {
     "name": "stdout",
     "output_type": "stream",
     "text": [
      "Total value = 12248\n",
      "Total weight: 30996\n",
      "Packed items: [2, 5, 7, 12, 13]\n",
      "Packed_weights: [7390, 2744, 7280, 3926, 9656]\n"
     ]
    }
   ],
   "source": [
    "solver.Init(values, weights, capacities)\n",
    "computed_value = solver.Solve()\n",
    "packed_items = []\n",
    "packed_weights = []\n",
    "total_weight = 0\n",
    "print('Total value =', computed_value)\n",
    "for i in range(len(values)):\n",
    "    if solver.BestSolutionContains(i):\n",
    "        packed_items.append(i)\n",
    "        packed_weights.append(weights[0][i])\n",
    "        total_weight += weights[0][i]\n",
    "print('Total weight:', total_weight)\n",
    "print('Packed items:', packed_items)\n",
    "print('Packed_weights:', packed_weights)"
   ]
  },
  {
   "cell_type": "markdown",
   "metadata": {},
   "source": [
    "## Knapsack Problem with 10,000 items"
   ]
  },
  {
   "cell_type": "markdown",
   "metadata": {},
   "source": [
    "### Branch and bound with linear relaxation"
   ]
  },
  {
   "cell_type": "code",
   "execution_count": 7,
   "metadata": {},
   "outputs": [
    {
     "name": "stdout",
     "output_type": "stream",
     "text": [
      "1099893\n"
     ]
    }
   ],
   "source": [
    "f = open('knapsack/data/ks_10000_0', 'r')\n",
    "input_data = f.read()\n",
    "\n",
    "lines = input_data.split('\\n')\n",
    "\n",
    "firstLine = lines[0].split()\n",
    "item_count = int(firstLine[0])\n",
    "capacity = int(firstLine[1])\n",
    "\n",
    "\n",
    "weights = []\n",
    "values = []\n",
    "\n",
    "\n",
    "for i in range(1, item_count+1):\n",
    "    values.append(int(lines[i].split()[0]))\n",
    "    weights.append(int(lines[i].split()[1]))\n",
    "    \n",
    "#create a DataFrame table to 1) sort the items by value/weight and 2) capture the original order of the items so that we can put them in their original order at the end\n",
    "position_table = pd.DataFrame()\n",
    "position_table['Values'] = values\n",
    "position_table['Weights'] = weights\n",
    "position_table['original_order'] = range(item_count)\n",
    "position_table['value_per_weight'] = [a/b for a,b in zip(values, weights)]\n",
    "\n",
    "value_table = position_table.sort_values('value_per_weight', ascending = False).reset_index(drop = True)\n",
    "\n",
    "\n",
    "#find an upper bound for the value of the knapsack\n",
    "\n",
    "current_capacity = capacity\n",
    "index = 0\n",
    "optimal_answer = 0\n",
    "\n",
    "while current_capacity > 0:\n",
    "    if value_table.Weights[index] <= current_capacity:\n",
    "        optimal_answer += value_table.Values[index]\n",
    "        current_capacity -= value_table.Weights[index]\n",
    "    else:\n",
    "        multiplier = current_capacity/value_table.Weights[index]\n",
    "        optimal_answer += value_table.Values[index] * multiplier\n",
    "        current_capacity -= value_table.Weights[index] * multiplier \n",
    "    index += 1\n",
    "\n",
    "    \n",
    "\n",
    "#get the values and weights in the new order\n",
    "values = list(value_table.Values)\n",
    "weights = list(value_table.Weights)\n",
    "\n",
    "#start at the upper most node (aka taking NO items)\n",
    "bucket = [[0] * item_count]\n",
    "best_value = 0\n",
    "\n",
    "current_level = 0\n",
    "\n",
    "#when we choose NOT to include an item, check if the optimal evaluation is greater than the current best value\n",
    "def opt_eval():\n",
    "    \n",
    "    opt_capacity = capacity\n",
    "    opt_evaluation = 0\n",
    "\n",
    "    \n",
    "    index = 0\n",
    "    \n",
    "    while opt_capacity > 0 and index < item_count: \n",
    "        \n",
    "        if index in range(current_level + 1):\n",
    "            if current_node[index] == 1:\n",
    "            \n",
    "                opt_evaluation += value_table.Values[index]\n",
    "                opt_capacity -= value_table.Weights[index]\n",
    "          \n",
    "            \n",
    "        elif value_table.Weights[index] <= opt_capacity:\n",
    "            opt_evaluation += value_table.Values[index]\n",
    "            opt_capacity -= value_table.Weights[index]\n",
    "   \n",
    "            \n",
    "        else:\n",
    "            mult = opt_capacity/value_table.Weights[index]\n",
    "            opt_evaluation += value_table.Values[index] * mult\n",
    "            opt_capacity -= value_table.Weights[index] * mult \n",
    "        \n",
    "            \n",
    "        index += 1\n",
    "\n",
    "    return opt_evaluation > best_value\n",
    "\n",
    "while len(bucket) != 0:\n",
    "    new_bucket = []\n",
    "    for i in range(len(bucket)):\n",
    "        \n",
    "        current_node = bucket[i]        \n",
    "       \n",
    "        #left node\n",
    "        weight_test_node = current_node.copy()\n",
    "        weight_test_node[current_level] = 1\n",
    "        \n",
    "        if (sum([a*b for a,b in zip(weights[0:current_level + 1], weight_test_node[0:current_level + 1])]) <= capacity):\n",
    "            \n",
    "            new_bucket.append(weight_test_node)\n",
    "            \n",
    "            test_value = sum([c*d for c,d in zip(values[0:current_level + 1], weight_test_node[0:current_level + 1])])\n",
    "            if test_value > best_value:\n",
    "                best_node = weight_test_node.copy()\n",
    "                best_value = test_value\n",
    "            \n",
    "        #right node\n",
    "        if opt_eval():\n",
    "            new_bucket.append(current_node)\n",
    "            \n",
    "\n",
    "    \n",
    "    if current_level < item_count - 1:\n",
    "        current_level += 1\n",
    "        \n",
    "        \n",
    "    else:\n",
    "        break\n",
    "        \n",
    "    #print(best_value)\n",
    "    #print(current_level)\n",
    "    bucket = new_bucket.copy()\n",
    "\n",
    "\n",
    "value_table['Answer'] = best_node\n",
    "#print(list(value_table.sort_values('original_order').Answer))\n",
    "print(best_value)"
   ]
  },
  {
   "cell_type": "code",
   "execution_count": 21,
   "metadata": {},
   "outputs": [
    {
     "data": {
      "text/plain": [
       "[568,\n",
       " 1824,\n",
       " 2192,\n",
       " 2641,\n",
       " 2827,\n",
       " 2946,\n",
       " 3003,\n",
       " 3023,\n",
       " 6113,\n",
       " 7055,\n",
       " 7498,\n",
       " 7577,\n",
       " 8034,\n",
       " 9431,\n",
       " 9756]"
      ]
     },
     "execution_count": 21,
     "metadata": {},
     "output_type": "execute_result"
    }
   ],
   "source": [
    "#the items that are in the knapsack\n",
    "[i for i in range(10000) if list(value_table.sort_values('original_order').Answer)[i] != 0]"
   ]
  },
  {
   "cell_type": "markdown",
   "metadata": {},
   "source": [
    "### Using OR-Tools \n",
    "note: this solver takes a fraction of a second to solve the problem, versus the previous solver (which took about half an hour)"
   ]
  },
  {
   "cell_type": "code",
   "execution_count": 13,
   "metadata": {},
   "outputs": [
    {
     "name": "stdout",
     "output_type": "stream",
     "text": [
      "Total value = 1099893\n",
      "Total weight: 999994\n",
      "Packed items: [568, 1824, 2192, 2641, 2827, 2946, 3003, 3023, 6113, 7055, 7498, 7577, 8034, 9431, 9756]\n",
      "Packed_weights: [69221, 56051, 45426, 104666, 4148, 37964, 83877, 161215, 9, 99123, 21, 98789, 62979, 13082, 163423]\n"
     ]
    }
   ],
   "source": [
    "f = open('knapsack/data/ks_10000_0', 'r')\n",
    "input_data = f.read()\n",
    "\n",
    "lines = input_data.split('\\n')\n",
    "\n",
    "firstLine = lines[0].split()\n",
    "item_count = int(firstLine[0])\n",
    "capacities = [int(firstLine[1])]\n",
    "\n",
    "\n",
    "weights = []\n",
    "values = []\n",
    "\n",
    "\n",
    "for i in range(1, item_count+1):\n",
    "    values.append(int(lines[i].split()[0]))\n",
    "    weights.append(int(lines[i].split()[1]))\n",
    "\n",
    "weights = [weights]\n",
    "\n",
    "solver = pywrapknapsack_solver.KnapsackSolver(\n",
    "    pywrapknapsack_solver.KnapsackSolver.\n",
    "    KNAPSACK_MULTIDIMENSION_BRANCH_AND_BOUND_SOLVER, 'KnapsackExample')\n",
    "\n",
    "solver.Init(values, weights, capacities)\n",
    "computed_value = solver.Solve()\n",
    "packed_items = []\n",
    "packed_weights = []\n",
    "total_weight = 0\n",
    "print('Total value =', computed_value)\n",
    "for i in range(len(values)):\n",
    "    if solver.BestSolutionContains(i):\n",
    "        packed_items.append(i)\n",
    "        packed_weights.append(weights[0][i])\n",
    "        total_weight += weights[0][i]\n",
    "print('Total weight:', total_weight)\n",
    "print('Packed items:', packed_items)\n",
    "print('Packed_weights:', packed_weights)"
   ]
  },
  {
   "cell_type": "code",
   "execution_count": null,
   "metadata": {},
   "outputs": [],
   "source": []
  }
 ],
 "metadata": {
  "kernelspec": {
   "display_name": "Python 3",
   "language": "python",
   "name": "python3"
  },
  "language_info": {
   "codemirror_mode": {
    "name": "ipython",
    "version": 3
   },
   "file_extension": ".py",
   "mimetype": "text/x-python",
   "name": "python",
   "nbconvert_exporter": "python",
   "pygments_lexer": "ipython3",
   "version": "3.7.6"
  }
 },
 "nbformat": 4,
 "nbformat_minor": 4
}
