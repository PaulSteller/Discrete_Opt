{
 "cells": [
  {
   "cell_type": "markdown",
   "metadata": {},
   "source": [
    "# Graph Coloring Problem\n",
    "#### In this classic graph theory problem, a simple, undirected graph is given. How can we assign a color to each vertex such that no two adjacent (connected) vertices have the same color? The smallest such number is called the chromatic number. For planar graphs, we know (because of the Four Color Theorem) that an upper bound for the chromatic number is 4. In general, though, the chromatic number may be much higher that, especially if the graph is dense. The filenames are given in the form \"gc_v_d\" where v is the number of vertices and d is the density of the graph. So the graph in file \"gc_100_1\" has 100 vertices but is not very dense. The graph in file \"gc_1000_9\" has 1000 vertices and is very dense. In general, it has harder to to find the chromatic number for more dense graphs.\n",
    "\n",
    "#### Below, I use networkx to get very quick approximations of the chromatic number (although some may be much higher than the actual chromatic number). I then use OR-Tools to find the optimal answer (aka the actual chromatic number). However, this is a slow process (especially for larger or more dense graphs). \n",
    "\n",
    "More information on this problem can be found here:\n",
    "https://en.wikipedia.org/wiki/Graph_coloring"
   ]
  },
  {
   "cell_type": "code",
   "execution_count": 59,
   "metadata": {},
   "outputs": [],
   "source": [
    "import constraint\n",
    "import numpy as np\n",
    "\n",
    "import matplotlib.pyplot as plt\n",
    "import networkx as nx\n",
    "\n",
    "import time"
   ]
  },
  {
   "cell_type": "markdown",
   "metadata": {},
   "source": [
    "# Using NetworkX\n",
    "Find approximations of answers"
   ]
  },
  {
   "cell_type": "code",
   "execution_count": 60,
   "metadata": {},
   "outputs": [],
   "source": [
    "def greedy_networkx(filename):\n",
    "    f = open(filename, 'r')\n",
    "    input_data = f.read()\n",
    "\n",
    "    lines = input_data.split('\\n')\n",
    "\n",
    "    #get data\n",
    "    firstLine = lines[0].split()\n",
    "    node_count = int(firstLine[0])\n",
    "    edge_count = int(firstLine[1])\n",
    "\n",
    "    #create graph from data\n",
    "    G=nx.Graph()\n",
    "    for i in range(1, edge_count + 1):\n",
    "        node_1 = int(lines[i].split()[0])\n",
    "        node_2 = int(lines[i].split()[1])\n",
    "        G.add_edges_from([(node_1, node_2)])\n",
    "\n",
    "\n",
    "    solution = [i[1] for i in sorted(nx.greedy_color(G, strategy='DSATUR', interchange=False).items())]  \n",
    "\n",
    "    minimum_coloring = len(set(solution))\n",
    "\n",
    "    return minimum_coloring, solution\n",
    "\n",
    "\n"
   ]
  },
  {
   "cell_type": "code",
   "execution_count": 61,
   "metadata": {},
   "outputs": [
    {
     "name": "stdout",
     "output_type": "stream",
     "text": [
      "7\n",
      "\n",
      "0.005982160568237305 seconds\n"
     ]
    }
   ],
   "source": [
    "filename = 'data/gc_50_3'\n",
    "\n",
    "start = time.time()\n",
    "min_coloring, solution = greedy_networkx(filename)\n",
    "print(min_coloring)\n",
    "print()\n",
    "print(time.time()-start, 'seconds')\n"
   ]
  },
  {
   "cell_type": "code",
   "execution_count": 62,
   "metadata": {},
   "outputs": [
    {
     "name": "stdout",
     "output_type": "stream",
     "text": [
      "6\n",
      "\n",
      "0.013608217239379883 seconds\n"
     ]
    }
   ],
   "source": [
    "filename = 'data/gc_100_1'\n",
    "\n",
    "start = time.time()\n",
    "min_coloring, solution = greedy_networkx(filename)\n",
    "print(min_coloring)\n",
    "print()\n",
    "print(time.time()-start, 'seconds')"
   ]
  },
  {
   "cell_type": "code",
   "execution_count": 63,
   "metadata": {},
   "outputs": [
    {
     "name": "stdout",
     "output_type": "stream",
     "text": [
      "12\n",
      "\n",
      "0.016910076141357422 seconds\n"
     ]
    }
   ],
   "source": [
    "filename = 'data/gc_100_3'\n",
    "\n",
    "start = time.time()\n",
    "min_coloring, solution = greedy_networkx(filename)\n",
    "print(min_coloring)\n",
    "print()\n",
    "print(time.time()-start, 'seconds')"
   ]
  },
  {
   "cell_type": "code",
   "execution_count": 64,
   "metadata": {},
   "outputs": [
    {
     "name": "stdout",
     "output_type": "stream",
     "text": [
      "297\n",
      "\n",
      "2.378542184829712 seconds\n"
     ]
    }
   ],
   "source": [
    "filename = 'data/gc_1000_9'\n",
    "\n",
    "start = time.time()\n",
    "min_coloring, solution = greedy_networkx(filename)\n",
    "print(min_coloring)\n",
    "print()\n",
    "print(time.time()-start, 'seconds')"
   ]
  },
  {
   "cell_type": "markdown",
   "metadata": {},
   "source": [
    "# Using OR-Tools\n",
    "Constraint Programming. Optimal answer. Very slow for large and/or dense graphs"
   ]
  },
  {
   "cell_type": "code",
   "execution_count": 65,
   "metadata": {},
   "outputs": [],
   "source": [
    "from ortools.constraint_solver import pywrapcp"
   ]
  },
  {
   "cell_type": "code",
   "execution_count": 66,
   "metadata": {},
   "outputs": [],
   "source": [
    "\n",
    "def graph_coloring(filename):\n",
    "    f = open(filename, 'r')\n",
    "    input_data = f.read()\n",
    "\n",
    "    lines = input_data.split('\\n')\n",
    "\n",
    "    #get data\n",
    "    firstLine = lines[0].split()\n",
    "    node_count = int(firstLine[0])\n",
    "    edge_count = int(firstLine[1])\n",
    "\n",
    "    #vertices\n",
    "    V = range(node_count)\n",
    "\n",
    "    #edges\n",
    "    E = []\n",
    "    for i in range(1, edge_count + 1):\n",
    "        node_1 = int(lines[i].split()[0])\n",
    "        node_2 = int(lines[i].split()[1])\n",
    "        E.append([node_1, node_2])\n",
    "\n",
    "    #find upper bound using networkx greedy algorithm\n",
    "    max_num_colors, upper_bound_solution = greedy_networkx(filename)\n",
    "\n",
    "\n",
    "    solver = pywrapcp.Solver('Map coloring')\n",
    "\n",
    "    # decision variables\n",
    "    x = [solver.IntVar(1, max_num_colors, 'x[%i]' % i) for i in V]\n",
    "\n",
    "    # number of colors used, to minimize\n",
    "    max_color = solver.Max(x).Var()\n",
    "\n",
    "    # constraints\n",
    "\n",
    "    # adjacent nodes cannot be assigned the same color\n",
    "    # (and adjust to 0-based)\n",
    "    for i in range(edge_count):\n",
    "        solver.Add(x[E[i][0]] != x[E[i][1]])\n",
    "\n",
    "    # symmetry breaking\n",
    "    for i in range(max_num_colors):\n",
    "        solver.Add(x[i] <= i+1);\n",
    "\n",
    "    # objective (minimize the number of colors)\n",
    "    objective = solver.Minimize(max_color, 1)\n",
    "\n",
    "\n",
    "    # solution\n",
    "    solution = solver.Assignment()\n",
    "    solution.Add(x)\n",
    "    solution.Add(max_color)\n",
    "\n",
    "    db = solver.Phase(x,\n",
    "                    # solver.CHOOSE_FIRST_UNBOUND,\n",
    "                    solver.CHOOSE_MIN_SIZE_LOWEST_MAX,\n",
    "\n",
    "                    # solver.ASSIGN_MIN_VALUE\n",
    "                    solver.ASSIGN_MIN_VALUE\n",
    "                    )\n",
    "\n",
    "    solver.NewSearch(db, [objective])\n",
    "    num_solutions = 0\n",
    "    while solver.NextSolution():\n",
    "        num_solutions += 1\n",
    "#         print(\"x:\", [int(x[i].Value()) for i in V])\n",
    "#         print(\"max_color:\", max_color.Value())\n",
    "#         print()\n",
    "        solution = [int(x[i].Value()) for i in V]\n",
    "        min_colors = max_color.Value()\n",
    "    solver.EndSearch()\n",
    "\n",
    "    print('minimum colors required:', min_colors)\n",
    "    print('possible solution:', solution)\n",
    "\n",
    "\n",
    "    #return max_color.Value(), [int(x[i].Value()) for i in V]"
   ]
  },
  {
   "cell_type": "code",
   "execution_count": 67,
   "metadata": {},
   "outputs": [
    {
     "name": "stdout",
     "output_type": "stream",
     "text": [
      "minimum colors required: 6\n",
      "possible solution: [1, 1, 1, 2, 1, 3, 2, 5, 3, 6, 3, 5, 3, 4, 2, 3, 5, 4, 6, 1, 6, 6, 3, 3, 3, 4, 3, 4, 4, 6, 6, 2, 1, 1, 6, 3, 6, 1, 4, 4, 4, 6, 5, 5, 2, 5, 6, 2, 6, 4]\n",
      "\n",
      "0.037158966064453125 seconds\n"
     ]
    }
   ],
   "source": [
    "filename = 'data/gc_50_3'\n",
    "\n",
    "start = time.time()\n",
    "graph_coloring(filename)\n",
    "print()\n",
    "print(time.time()-start, 'seconds')"
   ]
  },
  {
   "cell_type": "code",
   "execution_count": 68,
   "metadata": {},
   "outputs": [
    {
     "name": "stdout",
     "output_type": "stream",
     "text": [
      "minimum colors required: 5\n",
      "possible solution: [1, 1, 1, 2, 2, 3, 3, 2, 2, 1, 1, 2, 2, 4, 3, 2, 3, 2, 4, 2, 3, 1, 3, 3, 2, 1, 1, 5, 3, 1, 1, 2, 2, 1, 4, 5, 3, 3, 1, 3, 4, 4, 3, 1, 2, 4, 5, 2, 4, 5, 3, 2, 3, 1, 1, 2, 1, 4, 4, 5, 2, 4, 2, 3, 4, 3, 2, 2, 4, 4, 5, 3, 5, 1, 5, 1, 5, 5, 1, 5, 3, 4, 5, 4, 1, 4, 2, 3, 1, 3, 4, 3, 3, 3, 5, 1, 1, 1, 5, 1]\n",
      "\n",
      "0.22486329078674316 seconds\n"
     ]
    }
   ],
   "source": [
    "filename = 'data/gc_100_1'\n",
    "\n",
    "start = time.time()\n",
    "graph_coloring(filename)\n",
    "print()\n",
    "print(time.time()-start, 'seconds')"
   ]
  },
  {
   "cell_type": "code",
   "execution_count": null,
   "metadata": {},
   "outputs": [],
   "source": []
  }
 ],
 "metadata": {
  "kernelspec": {
   "display_name": "Python 3",
   "language": "python",
   "name": "python3"
  },
  "language_info": {
   "codemirror_mode": {
    "name": "ipython",
    "version": 3
   },
   "file_extension": ".py",
   "mimetype": "text/x-python",
   "name": "python",
   "nbconvert_exporter": "python",
   "pygments_lexer": "ipython3",
   "version": "3.7.6"
  }
 },
 "nbformat": 4,
 "nbformat_minor": 4
}
