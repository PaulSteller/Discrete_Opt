{
 "cells": [
  {
   "cell_type": "markdown",
   "metadata": {},
   "source": [
    "# Traveling Salesman Problem\n",
    "The input data for the traveling salesman problem is given in the following format:\n",
    "- the first line contains a single number, the number of cities, $n$, that the salesman must travel to\n",
    "- the remaining $n$ lines contain the $(x,y)$ coordinates of each of the $n$ cities\n",
    "\n",
    "The file name itself indicates how many cities there are. For example: \"tsp_100_1\" and \"tsp_100_2\" are two unique datasets containing 100 cities."
   ]
  },
  {
   "cell_type": "code",
   "execution_count": 2,
   "metadata": {},
   "outputs": [],
   "source": [
    "import math\n",
    "from collections import namedtuple\n",
    "\n",
    "import numpy as np\n",
    "import networkx as nx"
   ]
  },
  {
   "cell_type": "markdown",
   "metadata": {},
   "source": [
    "My initial attempt to solve the problem involved using NetworkX and the Hungarian Algorithm. Essentially, I ran the distance matrix through the Hungarian algorithm. This left me with a matrix containing at least one zero in each row and column. I used a function defined below, called get_graph, in order to create a new graph and adjacency matrix, where the $ij^{th}$ entry of this new matrix was 1 if the $ij^{th}$ entry of the original matrix was 0. If I could find a Hamiltonian cycle for this new graph, then I would be guaranteed to have a route with minimum distance. If such a cycle didn't exist, I would subtract the minimum value of the original matrix (excluding zero) from all the other non-zero values, and repeated the process. What this essentially did was slowly add edges to the matrix from which I was trying to find a Hamiltonian cycle. The idea would be to keep doing this until I could find a Hamiltonian cycle. The problem that I ran into was that it is increibly computationally expensive to look for Hamiltonian cycles, and the more edges I add, the longer it takes. Admittedly, I am sure there are quicker ways to find Hamiltonian cycles than what I was doing (although it is an NP hard problem). Even though it would give me an optimal solution, I ultimately decided to pursue different ways of solving the problem. However, some of my original code is given below:"
   ]
  },
  {
   "cell_type": "code",
   "execution_count": 14,
   "metadata": {},
   "outputs": [],
   "source": [
    "def get_hungarian(matrix):\n",
    "    for i in range(nodeCount):\n",
    "        matrix[i][:] -= min(matrix[i][:])\n",
    "        \n",
    "    for j in range(nodeCount):\n",
    "        matrix[:][j] -= min(matrix[:][j])   \n",
    "    return matrix    \n",
    "\n",
    "def subtract_min_val(matrix):\n",
    "    minval = np.min(matrix[np.nonzero(matrix)])\n",
    "    matrix[np.nonzero(matrix)] -= minval  \n",
    "    return matrix\n",
    "\n",
    "def get_graph(matrix):\n",
    "    G=nx.Graph()\n",
    "    node_list = []\n",
    "    for i in range(nodeCount):\n",
    "        for j in range(nodeCount):\n",
    "            if hung_matrix[i][j] == 0:\n",
    "                G.add_edges_from([(i,j)])\n",
    "                node_list.append(i)\n",
    "                node_list.append(j)\n",
    "                \n",
    "    A = nx.adjacency_matrix(G, nodelist = list(set(node_list)))\n",
    "\n",
    "    #draw graph:\n",
    "    nx.draw(G, with_labels=True,node_color = 'black', node_size = 40)\n",
    "\n",
    "    #uncomment to print adjacency matrix:\n",
    "    #print('Adjacency Matrix: \\n', A.todense())\n",
    "    \n",
    "    return np.array(A.todense())"
   ]
  },
  {
   "cell_type": "markdown",
   "metadata": {},
   "source": [
    "This is an example of how it was implemented below. Note: I used a Hamiltonian solver I had found online called hamCycle that also required me to define a class Graph. \n"
   ]
  },
  {
   "cell_type": "code",
   "execution_count": null,
   "metadata": {},
   "outputs": [],
   "source": [
    "Point = namedtuple(\"Point\", ['x', 'y'])\n",
    "\n",
    "f = open('data/tsp_5_1', 'r')\n",
    "input_data = f.read()\n",
    "\n",
    "lines = input_data.split('\\n')\n",
    "\n",
    "nodeCount = int(lines[0])\n",
    "\n",
    "points = []\n",
    "for i in range(1, nodeCount+1):\n",
    "    line = lines[i]\n",
    "    parts = line.split()\n",
    "    points.append(Point(float(parts[0]), float(parts[1])))\n",
    "\n",
    "\n",
    "distance_matrix = np.zeros((nodeCount, nodeCount))\n",
    "for i in range(nodeCount):\n",
    "    for j in range(nodeCount):\n",
    "        distance_matrix[i][j] = length(points[i], points[j])\n",
    "for k in range(nodeCount):\n",
    "    distance_matrix[k][k] = 1000000000000000\n",
    "\n",
    "distance_matrix_copy = distance_matrix.copy()    \n",
    "    \n",
    "hung_matrix = get_hungarian(distance_matrix_copy)\n",
    "\n",
    "adj_matrix = get_graph(hung_matrix)\n",
    "\n",
    "\n",
    "g = Graph(nodeCount)  \n",
    "g.graph = adj_matrix\n",
    "\n",
    "\n",
    "while g.hamCycle() == False:\n",
    "    hung_matrix = subtract_min_val(hung_matrix)\n",
    "    adj_matrix = get_graph(hung_matrix)\n",
    "    \n",
    "    g = Graph(nodeCount)  \n",
    "    g.graph = adj_matrix\n",
    "\n",
    "    \n",
    "solution = g.hamCycle()\n",
    "\n",
    "total_distance = 0\n",
    "total_distance += distance_matrix[solution[-1]][solution[0]]\n",
    "for d in range(nodeCount - 1):\n",
    "    total_distance += distance_matrix[solution[d]][solution[d+1]]\n",
    "\n",
    "print(solution)\n",
    "print('Distance: ', total_distance)"
   ]
  },
  {
   "cell_type": "markdown",
   "metadata": {},
   "source": [
    "### Greedy Nearest Neighbor\n",
    "Next, I tried a greedy nearest neighbor approach. I would start at an arbitrary node $x$, and move to the closest node (using the distance matrix to find the smallest distance). I would continue in this way, always moving to the closest unused node, until all of the nodes had been traveled to. Since this method is not too computationaly computationally expensive, as long as there arent too many cities, I can run this algorithm beginning at every node, and choose the shortest distance out of them all. "
   ]
  },
  {
   "cell_type": "code",
   "execution_count": 6,
   "metadata": {},
   "outputs": [
    {
     "name": "stderr",
     "output_type": "stream",
     "text": [
      "100%|██████████| 574/574 [00:27<00:00, 20.70it/s]"
     ]
    },
    {
     "name": "stdout",
     "output_type": "stream",
     "text": [
      "44514.83535435058\n"
     ]
    },
    {
     "name": "stderr",
     "output_type": "stream",
     "text": [
      "\n"
     ]
    }
   ],
   "source": [
    "\n",
    "from tqdm import tqdm\n",
    "\n",
    "#greedy algorithm to find upper bound for distance\n",
    "\n",
    "Point = namedtuple(\"Point\", ['x', 'y'])\n",
    "\n",
    "def length(point1, point2):\n",
    "    return math.sqrt((point1.x - point2.x)**2 + (point1.y - point2.y)**2)\n",
    "\n",
    "f = open('data/tsp_574_1', 'r')\n",
    "input_data = f.read()\n",
    "\n",
    "lines = input_data.split('\\n')\n",
    "\n",
    "nodeCount = int(lines[0])\n",
    "\n",
    "points = []\n",
    "for i in range(1, nodeCount+1):\n",
    "    line = lines[i]\n",
    "    parts = line.split()\n",
    "    points.append(Point(float(parts[0]), float(parts[1])))\n",
    "\n",
    "\n",
    "distance_matrix = np.zeros((nodeCount, nodeCount))\n",
    "for i in range(nodeCount):\n",
    "    for j in range(nodeCount):\n",
    "        distance_matrix[i][j] = length(points[i], points[j])\n",
    "for k in range(nodeCount):\n",
    "    distance_matrix[k][k] = 1000000000\n",
    "\n",
    "    \n",
    "    \n",
    "#create a greedy route starting with node x\n",
    "\n",
    "def nearest_neighbor_greedy(x):\n",
    "    greedy_route = [x]\n",
    "    greedy_distance = 0\n",
    "    nodes_left = list(range(nodeCount))\n",
    "    nodes_left.remove(x)\n",
    "    \n",
    "    for i in range(nodeCount - 2):\n",
    "        greedy_distance += min(distance_matrix[greedy_route[i]][nodes_left])\n",
    "        greedy_route.append(nodes_left[np.argmin(distance_matrix[greedy_route[i]][nodes_left])])\n",
    "        nodes_left.remove(nodes_left[np.argmin(distance_matrix[greedy_route[i]][nodes_left])])\n",
    "    greedy_distance += distance_matrix[greedy_route[-1]][nodes_left[0]] + distance_matrix[x][nodes_left[0]]\n",
    "\n",
    "    greedy_route.append(nodes_left[0])\n",
    "    return greedy_distance, greedy_route\n",
    "    \n",
    "current_min = 100000000000\n",
    "best_route = []\n",
    "\n",
    "for j in tqdm(range(nodeCount)):\n",
    "    distance, route = nearest_neighbor_greedy(j)\n",
    "    if distance < current_min:\n",
    "        current_min = distance\n",
    "        best_route = route\n",
    "\n",
    "#print(best_route)\n",
    "print(current_min)\n",
    "    "
   ]
  },
  {
   "cell_type": "markdown",
   "metadata": {},
   "source": [
    "### Greedy Nearest Neighbor with local greedy 2-swap\n",
    "\n",
    "Use the greedy algorithm above to get a decent route. Then, search through every two nodes within that route, and if swapping the nodes improves the route, swap them. Otherwise, leave them unchanged"
   ]
  },
  {
   "cell_type": "code",
   "execution_count": 9,
   "metadata": {},
   "outputs": [
    {
     "name": "stderr",
     "output_type": "stream",
     "text": [
      "100%|██████████| 574/574 [00:00<00:00, 2041.96it/s]\n",
      "100%|██████████| 10/10 [25:16<00:00, 151.70s/it]"
     ]
    },
    {
     "name": "stdout",
     "output_type": "stream",
     "text": [
      "43606.73743948595\n"
     ]
    },
    {
     "name": "stderr",
     "output_type": "stream",
     "text": [
      "\n"
     ]
    }
   ],
   "source": [
    "\n",
    "from tqdm import tqdm\n",
    "\n",
    "\n",
    "#greedy algorithm to find upper bound for distance\n",
    "\n",
    "Point = namedtuple(\"Point\", ['x', 'y'])\n",
    "\n",
    "f = open('data/tsp_574_1', 'r')\n",
    "input_data = f.read()\n",
    "\n",
    "lines = input_data.split('\\n')\n",
    "\n",
    "nodeCount = int(lines[0])\n",
    "\n",
    "points = []\n",
    "for i in range(1, nodeCount+1):\n",
    "    line = lines[i]\n",
    "    parts = line.split()\n",
    "    points.append(Point(float(parts[0]), float(parts[1])))\n",
    "\n",
    "\n",
    "distance_matrix = np.zeros((nodeCount, nodeCount))\n",
    "for i in range(nodeCount):\n",
    "    for j in range(nodeCount):\n",
    "        distance_matrix[i][j] = length(points[i], points[j])\n",
    "for k in range(nodeCount):\n",
    "    distance_matrix[k][k] = 1000000000\n",
    "\n",
    "\n",
    "    \n",
    "def get_current_cost(route):\n",
    "    current_cost = 0\n",
    "    for i in range(len(route) - 1):\n",
    "        current_cost += distance_matrix[route[i]][route[i+1]]\n",
    "    current_cost += distance_matrix[route[0]][route[-1]]\n",
    "    return current_cost\n",
    "    \n",
    "#create a greedy route starting with node x\n",
    "\n",
    "def nearest_neighbor_greedy(x):\n",
    "    greedy_route = [x]\n",
    "    greedy_distance = 0\n",
    "    nodes_left = list(range(nodeCount))\n",
    "    nodes_left.remove(x)\n",
    "    \n",
    "    for i in range(nodeCount - 2):\n",
    "        greedy_distance += min(distance_matrix[greedy_route[i]][nodes_left])\n",
    "        greedy_route.append(nodes_left[np.argmin(distance_matrix[greedy_route[i]][nodes_left])])\n",
    "        nodes_left.remove(nodes_left[np.argmin(distance_matrix[greedy_route[i]][nodes_left])])\n",
    "    greedy_distance += distance_matrix[greedy_route[-1]][nodes_left[0]] + distance_matrix[x][nodes_left[0]]\n",
    "\n",
    "    greedy_route.append(nodes_left[0])\n",
    "    return greedy_distance, greedy_route\n",
    "    \n",
    "current_min = 100000000000\n",
    "best_route = []\n",
    "\n",
    "\n",
    "for j in range(nodeCount):\n",
    "    distance, route = nearest_neighbor_greedy(j)\n",
    "    if distance < current_min:\n",
    "        current_min = distance\n",
    "        best_route = route.copy()\n",
    "        \n",
    "        \n",
    "def greedy_two_swap(route):\n",
    "    for i in range(nodeCount):\n",
    "        for j in range(nodeCount):\n",
    "            if i != j: \n",
    "                test_1 = route.copy()\n",
    "                test_1[i], test_1[j] = test_1[j], test_1[i]\n",
    "                if get_current_cost(test_1) < get_current_cost(route):\n",
    "                    route = test_1.copy()\n",
    "                    current_min = get_current_cost(route)\n",
    "\n",
    "    return route\n",
    "\n",
    "for i in tqdm(range(10)):\n",
    "    best_route = greedy_two_swap(best_route)\n",
    "    current_min = get_current_cost(best_route)\n",
    "\n",
    "\n",
    "current_min = get_current_cost(best_route)\n",
    "\n",
    "#print(best_route)\n",
    "print(current_min)\n",
    "    "
   ]
  },
  {
   "cell_type": "markdown",
   "metadata": {},
   "source": [
    "### Greedy Nearest Neighbor with local 2-opt search\n",
    "\n",
    "Use the greedy algorithm above to get a decent route. Then, perform the 2-opt algorithm: \n",
    "- delete two edges from four distinct nodes\n",
    "- connect the four nodes with two edges (different from the deleted edges) in a way that assures the route is still a cycle\n",
    "- check to see if the new route has a shorter distance than the original route\n",
    "\n",
    "This algorithm is a great way to remove any crossings in your route (an optimal route will never contain any intersecting edges). Below, I perform 10 iterations of the 2-opt algorithm. By inspection, it seems that after a few iterations, a local minimum is achieved, and the algorithm does not improve the score further."
   ]
  },
  {
   "cell_type": "code",
   "execution_count": 11,
   "metadata": {},
   "outputs": [],
   "source": [
    "\n",
    "from tqdm import tqdm\n",
    "\n",
    "\n",
    "\n",
    "def tsp(filename):\n",
    "\n",
    "    #greedy algorithm to find upper bound for distance\n",
    "\n",
    "    Point = namedtuple(\"Point\", ['x', 'y'])\n",
    "    \n",
    "    def length(point1, point2):\n",
    "        return math.sqrt((point1.x - point2.x)**2 + (point1.y - point2.y)**2)\n",
    "    \n",
    "    #f = open('data/tsp_574_1', 'r')\n",
    "    f = open(filename, 'r')\n",
    "    input_data = f.read()\n",
    "\n",
    "    lines = input_data.split('\\n')\n",
    "\n",
    "    nodeCount = int(lines[0])\n",
    "\n",
    "    points = []\n",
    "    for i in range(1, nodeCount+1):\n",
    "        line = lines[i]\n",
    "        parts = line.split()\n",
    "        points.append(Point(float(parts[0]), float(parts[1])))\n",
    "\n",
    "\n",
    "    distance_matrix = np.zeros((nodeCount, nodeCount))\n",
    "    for i in range(nodeCount):\n",
    "        for j in range(nodeCount):\n",
    "            distance_matrix[i][j] = length(points[i], points[j])\n",
    "    for k in range(nodeCount):\n",
    "        distance_matrix[k][k] = 1000000000\n",
    "\n",
    "\n",
    "\n",
    "    def get_current_cost(route):\n",
    "        current_cost = 0\n",
    "        for i in range(len(route) - 1):\n",
    "            current_cost += distance_matrix[route[i]][route[i+1]]\n",
    "        current_cost += distance_matrix[route[0]][route[-1]]\n",
    "        return current_cost\n",
    "\n",
    "    #create a greedy route starting with node x\n",
    "\n",
    "    def nearest_neighbor_greedy(x):\n",
    "        greedy_route = [x]\n",
    "        greedy_distance = 0\n",
    "        nodes_left = list(range(nodeCount))\n",
    "        nodes_left.remove(x)\n",
    "\n",
    "        for i in range(nodeCount - 2):\n",
    "            greedy_distance += min(distance_matrix[greedy_route[i]][nodes_left])\n",
    "            greedy_route.append(nodes_left[np.argmin(distance_matrix[greedy_route[i]][nodes_left])])\n",
    "            nodes_left.remove(nodes_left[np.argmin(distance_matrix[greedy_route[i]][nodes_left])])\n",
    "        greedy_distance += distance_matrix[greedy_route[-1]][nodes_left[0]] + distance_matrix[x][nodes_left[0]]\n",
    "\n",
    "        greedy_route.append(nodes_left[0])\n",
    "        return greedy_distance, greedy_route\n",
    "\n",
    "    current_min = 100000000000\n",
    "    best_route = []\n",
    "\n",
    "\n",
    "    for j in range(nodeCount):\n",
    "        distance, route = nearest_neighbor_greedy(j)\n",
    "        if distance < current_min:\n",
    "            current_min = distance\n",
    "            best_route = route.copy()\n",
    "\n",
    "\n",
    "    def two_opt(route, i, j):\n",
    "        first_chunk = route[0:i]\n",
    "        second_chunk = route[i:j+1]\n",
    "        second_chunk.reverse()\n",
    "        third_chunk = route[j+1:]\n",
    "\n",
    "        test_route = first_chunk + second_chunk + third_chunk\n",
    "        test_distance = get_current_cost(test_route)\n",
    "\n",
    "        return test_route, test_distance\n",
    "\n",
    "\n",
    "\n",
    "    print('before 2-opt:', current_min)\n",
    "\n",
    "\n",
    "\n",
    "\n",
    "    for o in range(10):\n",
    "        for i in range(nodeCount):\n",
    "            for j in range(nodeCount):\n",
    "                if i <= j:\n",
    "                    test_route, test_distance = two_opt(best_route, i, j)\n",
    "                    if test_distance < current_min:\n",
    "                        current_min = test_distance\n",
    "                        best_route = test_route.copy()\n",
    "    print('after 2-opt:', current_min)\n",
    "\n"
   ]
  },
  {
   "cell_type": "code",
   "execution_count": 12,
   "metadata": {},
   "outputs": [
    {
     "name": "stdout",
     "output_type": "stream",
     "text": [
      "before 2-opt: 496.4090227267278\n",
      "after 2-opt: 452.81638321759243\n"
     ]
    }
   ],
   "source": [
    "filename = 'data/tsp_51_1'\n",
    "tsp(filename)"
   ]
  },
  {
   "cell_type": "code",
   "execution_count": 13,
   "metadata": {},
   "outputs": [
    {
     "name": "stdout",
     "output_type": "stream",
     "text": [
      "before 2-opt: 23566.4029464274\n",
      "after 2-opt: 21939.46322520273\n"
     ]
    }
   ],
   "source": [
    "filename = 'data/tsp_100_3'\n",
    "tsp(filename)"
   ]
  },
  {
   "cell_type": "code",
   "execution_count": 14,
   "metadata": {},
   "outputs": [
    {
     "name": "stdout",
     "output_type": "stream",
     "text": [
      "before 2-opt: 35394.00871886393\n",
      "after 2-opt: 32000.004226562443\n"
     ]
    }
   ],
   "source": [
    "filename = 'data/tsp_200_2'\n",
    "tsp(filename)"
   ]
  },
  {
   "cell_type": "code",
   "execution_count": 15,
   "metadata": {},
   "outputs": [
    {
     "name": "stdout",
     "output_type": "stream",
     "text": [
      "before 2-opt: 44514.83535435058\n",
      "after 2-opt: 40088.548799603705\n"
     ]
    }
   ],
   "source": [
    "filename = 'data/tsp_574_1'\n",
    "tsp(filename)"
   ]
  },
  {
   "cell_type": "markdown",
   "metadata": {},
   "source": [
    "#### In order to find a solution for larger problems (and not take forever), we restrict the nearest neighbor search to only calculate a greedy route for a single node (in this case, node 0), rather than compare the greedy search for every node"
   ]
  },
  {
   "cell_type": "code",
   "execution_count": 3,
   "metadata": {},
   "outputs": [],
   "source": [
    "\n",
    "def tsp_big(filename):\n",
    "\n",
    "    #greedy algorithm to find upper bound for distance\n",
    "\n",
    "    Point = namedtuple(\"Point\", ['x', 'y'])\n",
    "    \n",
    "    def length(point1, point2):\n",
    "        return math.sqrt((point1.x - point2.x)**2 + (point1.y - point2.y)**2)\n",
    "    \n",
    "    #f = open('data/tsp_574_1', 'r')\n",
    "    f = open(filename, 'r')\n",
    "    input_data = f.read()\n",
    "\n",
    "    lines = input_data.split('\\n')\n",
    "\n",
    "    nodeCount = int(lines[0])\n",
    "\n",
    "    points = []\n",
    "    for i in range(1, nodeCount+1):\n",
    "        line = lines[i]\n",
    "        parts = line.split()\n",
    "        points.append(Point(float(parts[0]), float(parts[1])))\n",
    "\n",
    "\n",
    "    distance_matrix = np.zeros((nodeCount, nodeCount))\n",
    "    for i in range(nodeCount):\n",
    "        for j in range(nodeCount):\n",
    "            distance_matrix[i][j] = length(points[i], points[j])\n",
    "    for k in range(nodeCount):\n",
    "        distance_matrix[k][k] = 1000000000\n",
    "\n",
    "\n",
    "\n",
    "    def get_current_cost(route):\n",
    "        current_cost = 0\n",
    "        for i in range(len(route) - 1):\n",
    "            current_cost += distance_matrix[route[i]][route[i+1]]\n",
    "        current_cost += distance_matrix[route[0]][route[-1]]\n",
    "        return current_cost\n",
    "\n",
    "    #create a greedy route starting with node x\n",
    "\n",
    "    def nearest_neighbor_greedy(x):\n",
    "        greedy_route = [x]\n",
    "        greedy_distance = 0\n",
    "        nodes_left = list(range(nodeCount))\n",
    "        nodes_left.remove(x)\n",
    "\n",
    "        for i in range(nodeCount - 2):\n",
    "            greedy_distance += min(distance_matrix[greedy_route[i]][nodes_left])\n",
    "            greedy_route.append(nodes_left[np.argmin(distance_matrix[greedy_route[i]][nodes_left])])\n",
    "            nodes_left.remove(nodes_left[np.argmin(distance_matrix[greedy_route[i]][nodes_left])])\n",
    "        greedy_distance += distance_matrix[greedy_route[-1]][nodes_left[0]] + distance_matrix[x][nodes_left[0]]\n",
    "\n",
    "        greedy_route.append(nodes_left[0])\n",
    "        return greedy_distance, greedy_route\n",
    "\n",
    "    current_min = 100000000000\n",
    "    best_route = []\n",
    "\n",
    "\n",
    "    for j in range(1):\n",
    "        distance, route = nearest_neighbor_greedy(j)\n",
    "        if distance < current_min:\n",
    "            current_min = distance\n",
    "            best_route = route.copy()\n",
    "\n",
    "\n",
    "    def two_opt(route, i, j):\n",
    "        first_chunk = route[0:i]\n",
    "        second_chunk = route[i:j+1]\n",
    "        second_chunk.reverse()\n",
    "        third_chunk = route[j+1:]\n",
    "\n",
    "        test_route = first_chunk + second_chunk + third_chunk\n",
    "        test_distance = get_current_cost(test_route)\n",
    "\n",
    "        return test_route, test_distance\n",
    "\n",
    "\n",
    "\n",
    "    print('before 2-opt:', current_min)\n",
    "\n",
    "\n",
    "\n",
    "\n",
    "    for o in range(5):\n",
    "        for i in range(nodeCount):\n",
    "            for j in range(nodeCount):\n",
    "                if i <= j:\n",
    "                    test_route, test_distance = two_opt(best_route, i, j)\n",
    "                    if test_distance < current_min:\n",
    "                        current_min = test_distance\n",
    "                        best_route = test_route.copy()\n",
    "    print('after 2-opt:', current_min)\n",
    "\n"
   ]
  },
  {
   "cell_type": "code",
   "execution_count": 3,
   "metadata": {},
   "outputs": [
    {
     "name": "stdout",
     "output_type": "stream",
     "text": [
      "before 2-opt: 391470.44549188914\n",
      "after 2-opt: 348665.92917653406\n"
     ]
    }
   ],
   "source": [
    "filename = 'data/tsp_1889_1'\n",
    "tsp_big(filename)"
   ]
  },
  {
   "cell_type": "code",
   "execution_count": null,
   "metadata": {},
   "outputs": [
    {
     "name": "stdout",
     "output_type": "stream",
     "text": [
      "before 2-opt: 78478867.03022146\n"
     ]
    }
   ],
   "source": [
    "filename = 'data/tsp_33810_1'\n",
    "tsp_big(filename)"
   ]
  },
  {
   "cell_type": "markdown",
   "metadata": {},
   "source": [
    "In general, it seems that the 2-opt algorithm finds a shorter route than the greedy 2-swap. However, both algorithms quickly get stuck in a local minimum. There are methods to get around this, such as Tabu search, k-opt searches, starting with different initial routes, and/or implementing both the 2-opt and the greedy 2-swap. "
   ]
  },
  {
   "cell_type": "markdown",
   "metadata": {},
   "source": [
    "# OR-Tools\n",
    "\n",
    "Google OR-Tools provides a great way to solve many discrete optimization problems, including the traveling salesman problem."
   ]
  },
  {
   "cell_type": "code",
   "execution_count": 31,
   "metadata": {},
   "outputs": [],
   "source": [
    "from __future__ import print_function\n",
    "from ortools.constraint_solver import routing_enums_pb2\n",
    "from ortools.constraint_solver import pywrapcp\n",
    "def OR_tsp_solver(filename):\n",
    "    \n",
    "    Point = namedtuple(\"Point\", ['x', 'y'])\n",
    "\n",
    "    def length(point1, point2):\n",
    "        return math.sqrt((point1.x - point2.x)**2 + (point1.y - point2.y)**2)\n",
    "\n",
    "    #f = open('data/tsp_574_1', 'r')\n",
    "    f = open(filename, 'r')\n",
    "    input_data = f.read()\n",
    "\n",
    "    lines = input_data.split('\\n')\n",
    "\n",
    "    nodeCount = int(lines[0])\n",
    "    \n",
    "    points = []\n",
    "    for i in range(1, nodeCount+1):\n",
    "        line = lines[i]\n",
    "        parts = line.split()\n",
    "        points.append(Point(float(parts[0]), float(parts[1])))\n",
    "\n",
    "\n",
    "    distance_matrix = np.zeros((nodeCount, nodeCount))\n",
    "    for i in range(nodeCount):\n",
    "        for j in range(nodeCount):\n",
    "            distance_matrix[i][j] = length(points[i], points[j])\n",
    "  \n",
    "    \n",
    "    def create_data_model():\n",
    "        data = {}\n",
    "        data['distance_matrix'] = distance_matrix\n",
    "        \n",
    "        #OR-tools allows for multiple vehicles, which is not necessary for our current problem\n",
    "        data['num_vehicles'] = 1\n",
    "        \n",
    "        #which node to start the route (and end) the route\n",
    "        data['depot'] = 0\n",
    "        return data\n",
    "    \n",
    "    \n",
    "    data = create_data_model()\n",
    "    manager = pywrapcp.RoutingIndexManager(len(data['distance_matrix']),\n",
    "                                           data['num_vehicles'], data['depot'])\n",
    "    routing = pywrapcp.RoutingModel(manager)\n",
    "    \n",
    "    def distance_callback(from_index, to_index):\n",
    "        #function which uses the distance matrix to retrieve the distance between any two nodes\n",
    "        from_node = manager.IndexToNode(from_index)\n",
    "        to_node = manager.IndexToNode(to_index)\n",
    "        return data['distance_matrix'][from_node][to_node]\n",
    "\n",
    "    transit_callback_index = routing.RegisterTransitCallback(distance_callback)\n",
    "    \n",
    "    #the \"cost\" is determined by distance between two locations\n",
    "    routing.SetArcCostEvaluatorOfAllVehicles(transit_callback_index)\n",
    "    \n",
    "    #an initial route is found using the nearest neighbors strategy, as was done in my previous solutions\n",
    "    search_parameters = pywrapcp.DefaultRoutingSearchParameters()\n",
    "    search_parameters.first_solution_strategy = (routing_enums_pb2.FirstSolutionStrategy.PATH_CHEAPEST_ARC)\n",
    "    \n",
    "    def print_solution(manager, routing, solution):\n",
    "        #Prints solution \n",
    "        print('Objective: {} miles'.format(solution.ObjectiveValue()))\n",
    "        index = routing.Start(0)\n",
    "        plan_output = 'Route for vehicle 0:\\n'\n",
    "        route_distance = 0\n",
    "        while not routing.IsEnd(index):\n",
    "            plan_output += ' {} ->'.format(manager.IndexToNode(index))\n",
    "            previous_index = index\n",
    "            index = solution.Value(routing.NextVar(index))\n",
    "            route_distance += routing.GetArcCostForVehicle(previous_index, index, 0)\n",
    "        plan_output += ' {}\\n'.format(manager.IndexToNode(index))\n",
    "        print(plan_output)\n",
    "        plan_output += 'Route distance: {}miles\\n'.format(route_distance)\n",
    "    \n",
    "    solution = routing.SolveWithParameters(search_parameters)\n",
    "    if solution:\n",
    "        print_solution(manager, routing, solution)"
   ]
  },
  {
   "cell_type": "markdown",
   "metadata": {},
   "source": [
    "#### Unsurprisingly, OR-tools does a better job minimizing the objective, and is more effecient.\n",
    "\n",
    "However, the code above would need to be tweaked for the case of 33810 cities (I tried running the script for several hours before giving up)."
   ]
  },
  {
   "cell_type": "code",
   "execution_count": 33,
   "metadata": {},
   "outputs": [
    {
     "name": "stdout",
     "output_type": "stream",
     "text": [
      "Objective: 424 miles\n",
      "Route for vehicle 0:\n",
      " 0 -> 5 -> 2 -> 28 -> 10 -> 9 -> 45 -> 27 -> 47 -> 26 -> 6 -> 36 -> 12 -> 30 -> 23 -> 34 -> 24 -> 41 -> 3 -> 46 -> 8 -> 4 -> 35 -> 13 -> 7 -> 19 -> 40 -> 18 -> 16 -> 44 -> 14 -> 15 -> 38 -> 29 -> 42 -> 11 -> 37 -> 21 -> 43 -> 50 -> 39 -> 49 -> 17 -> 32 -> 48 -> 31 -> 25 -> 20 -> 1 -> 22 -> 33 -> 0\n",
      "\n"
     ]
    }
   ],
   "source": [
    "filename = 'data/tsp_51_1'\n",
    "OR_tsp_solver(filename)"
   ]
  },
  {
   "cell_type": "code",
   "execution_count": 32,
   "metadata": {},
   "outputs": [
    {
     "name": "stdout",
     "output_type": "stream",
     "text": [
      "Objective: 21499 miles\n",
      "Route for vehicle 0:\n",
      " 0 -> 12 -> 93 -> 97 -> 33 -> 60 -> 1 -> 36 -> 45 -> 46 -> 30 -> 94 -> 82 -> 49 -> 85 -> 6 -> 23 -> 18 -> 52 -> 22 -> 8 -> 90 -> 38 -> 79 -> 17 -> 51 -> 84 -> 72 -> 70 -> 19 -> 25 -> 40 -> 43 -> 44 -> 99 -> 11 -> 32 -> 21 -> 35 -> 54 -> 92 -> 5 -> 20 -> 87 -> 88 -> 77 -> 37 -> 47 -> 7 -> 83 -> 39 -> 74 -> 66 -> 57 -> 71 -> 24 -> 3 -> 55 -> 96 -> 80 -> 16 -> 4 -> 91 -> 69 -> 13 -> 28 -> 64 -> 34 -> 50 -> 2 -> 89 -> 76 -> 62 -> 14 -> 29 -> 26 -> 9 -> 53 -> 61 -> 95 -> 73 -> 81 -> 10 -> 75 -> 56 -> 31 -> 27 -> 58 -> 86 -> 78 -> 67 -> 98 -> 42 -> 63 -> 48 -> 59 -> 41 -> 68 -> 15 -> 65 -> 0\n",
      "\n"
     ]
    }
   ],
   "source": [
    "filename = 'data/tsp_100_3'\n",
    "OR_tsp_solver(filename)"
   ]
  },
  {
   "cell_type": "code",
   "execution_count": 34,
   "metadata": {},
   "outputs": [
    {
     "name": "stdout",
     "output_type": "stream",
     "text": [
      "Objective: 30539 miles\n",
      "Route for vehicle 0:\n",
      " 0 -> 155 -> 199 -> 125 -> 161 -> 31 -> 104 -> 96 -> 166 -> 97 -> 169 -> 48 -> 138 -> 69 -> 152 -> 88 -> 109 -> 167 -> 10 -> 89 -> 16 -> 139 -> 93 -> 168 -> 49 -> 174 -> 129 -> 33 -> 80 -> 179 -> 119 -> 137 -> 51 -> 7 -> 65 -> 37 -> 148 -> 185 -> 22 -> 41 -> 172 -> 184 -> 21 -> 192 -> 110 -> 102 -> 57 -> 127 -> 28 -> 190 -> 196 -> 175 -> 198 -> 107 -> 128 -> 35 -> 158 -> 74 -> 66 -> 131 -> 6 -> 170 -> 60 -> 111 -> 73 -> 197 -> 194 -> 100 -> 189 -> 120 -> 45 -> 145 -> 124 -> 108 -> 126 -> 75 -> 160 -> 134 -> 71 -> 56 -> 30 -> 98 -> 44 -> 165 -> 32 -> 67 -> 13 -> 186 -> 103 -> 105 -> 182 -> 81 -> 163 -> 113 -> 24 -> 19 -> 141 -> 101 -> 8 -> 9 -> 181 -> 20 -> 46 -> 132 -> 114 -> 11 -> 27 -> 150 -> 55 -> 94 -> 147 -> 130 -> 162 -> 25 -> 86 -> 112 -> 54 -> 177 -> 116 -> 91 -> 140 -> 47 -> 1 -> 143 -> 29 -> 99 -> 191 -> 50 -> 118 -> 34 -> 61 -> 36 -> 195 -> 18 -> 135 -> 144 -> 117 -> 4 -> 115 -> 5 -> 39 -> 82 -> 2 -> 176 -> 123 -> 52 -> 59 -> 43 -> 92 -> 3 -> 154 -> 63 -> 149 -> 58 -> 17 -> 84 -> 142 -> 188 -> 95 -> 85 -> 159 -> 64 -> 173 -> 77 -> 193 -> 79 -> 156 -> 133 -> 68 -> 106 -> 183 -> 157 -> 151 -> 15 -> 76 -> 42 -> 70 -> 121 -> 122 -> 187 -> 72 -> 38 -> 90 -> 53 -> 62 -> 153 -> 14 -> 171 -> 136 -> 83 -> 40 -> 146 -> 78 -> 180 -> 12 -> 178 -> 87 -> 164 -> 23 -> 26 -> 0\n",
      "\n"
     ]
    }
   ],
   "source": [
    "filename = 'data/tsp_200_2'\n",
    "OR_tsp_solver(filename)"
   ]
  },
  {
   "cell_type": "code",
   "execution_count": 35,
   "metadata": {},
   "outputs": [
    {
     "name": "stdout",
     "output_type": "stream",
     "text": [
      "Objective: 38328 miles\n",
      "Route for vehicle 0:\n",
      " 0 -> 4 -> 1 -> 2 -> 3 -> 455 -> 456 -> 457 -> 458 -> 459 -> 460 -> 463 -> 462 -> 461 -> 500 -> 499 -> 452 -> 453 -> 440 -> 441 -> 450 -> 449 -> 448 -> 447 -> 446 -> 442 -> 445 -> 444 -> 443 -> 439 -> 454 -> 438 -> 437 -> 436 -> 435 -> 434 -> 433 -> 432 -> 430 -> 431 -> 429 -> 428 -> 427 -> 426 -> 421 -> 420 -> 416 -> 415 -> 414 -> 413 -> 352 -> 351 -> 350 -> 349 -> 348 -> 347 -> 362 -> 363 -> 361 -> 360 -> 359 -> 358 -> 357 -> 354 -> 353 -> 355 -> 356 -> 412 -> 411 -> 410 -> 418 -> 417 -> 419 -> 422 -> 423 -> 424 -> 425 -> 382 -> 386 -> 387 -> 385 -> 383 -> 384 -> 409 -> 405 -> 404 -> 403 -> 402 -> 401 -> 400 -> 399 -> 406 -> 408 -> 407 -> 397 -> 398 -> 370 -> 369 -> 368 -> 367 -> 366 -> 329 -> 328 -> 327 -> 326 -> 325 -> 324 -> 323 -> 322 -> 373 -> 372 -> 371 -> 396 -> 395 -> 394 -> 393 -> 392 -> 391 -> 388 -> 389 -> 390 -> 381 -> 380 -> 379 -> 378 -> 377 -> 376 -> 375 -> 374 -> 315 -> 314 -> 316 -> 313 -> 312 -> 451 -> 311 -> 310 -> 309 -> 308 -> 307 -> 303 -> 304 -> 306 -> 305 -> 318 -> 317 -> 319 -> 320 -> 321 -> 297 -> 296 -> 295 -> 294 -> 293 -> 292 -> 291 -> 332 -> 331 -> 330 -> 342 -> 365 -> 364 -> 346 -> 345 -> 344 -> 343 -> 341 -> 340 -> 339 -> 338 -> 337 -> 336 -> 333 -> 335 -> 334 -> 283 -> 284 -> 285 -> 286 -> 287 -> 282 -> 281 -> 280 -> 279 -> 278 -> 277 -> 276 -> 288 -> 289 -> 290 -> 275 -> 274 -> 273 -> 272 -> 271 -> 268 -> 269 -> 270 -> 267 -> 266 -> 264 -> 263 -> 261 -> 260 -> 259 -> 258 -> 262 -> 265 -> 298 -> 299 -> 300 -> 257 -> 256 -> 255 -> 253 -> 254 -> 252 -> 251 -> 250 -> 249 -> 248 -> 242 -> 241 -> 301 -> 302 -> 508 -> 507 -> 506 -> 505 -> 504 -> 503 -> 502 -> 501 -> 498 -> 519 -> 518 -> 497 -> 496 -> 464 -> 465 -> 466 -> 467 -> 468 -> 469 -> 470 -> 471 -> 495 -> 494 -> 472 -> 473 -> 474 -> 567 -> 566 -> 565 -> 564 -> 563 -> 562 -> 561 -> 560 -> 549 -> 548 -> 478 -> 477 -> 479 -> 480 -> 476 -> 475 -> 482 -> 481 -> 483 -> 485 -> 484 -> 536 -> 537 -> 539 -> 538 -> 540 -> 178 -> 177 -> 176 -> 175 -> 174 -> 173 -> 172 -> 170 -> 171 -> 169 -> 180 -> 181 -> 179 -> 182 -> 183 -> 185 -> 184 -> 197 -> 196 -> 195 -> 194 -> 193 -> 192 -> 191 -> 190 -> 186 -> 187 -> 188 -> 534 -> 535 -> 487 -> 486 -> 488 -> 489 -> 490 -> 491 -> 492 -> 493 -> 524 -> 525 -> 526 -> 523 -> 522 -> 521 -> 520 -> 517 -> 516 -> 515 -> 514 -> 513 -> 509 -> 510 -> 511 -> 512 -> 527 -> 528 -> 529 -> 530 -> 531 -> 532 -> 533 -> 231 -> 230 -> 229 -> 228 -> 227 -> 189 -> 226 -> 225 -> 219 -> 218 -> 220 -> 221 -> 222 -> 224 -> 223 -> 232 -> 233 -> 234 -> 235 -> 236 -> 237 -> 238 -> 239 -> 240 -> 243 -> 244 -> 245 -> 247 -> 246 -> 216 -> 217 -> 215 -> 214 -> 213 -> 212 -> 211 -> 210 -> 209 -> 205 -> 206 -> 207 -> 208 -> 203 -> 204 -> 202 -> 201 -> 200 -> 199 -> 198 -> 166 -> 167 -> 163 -> 168 -> 162 -> 161 -> 160 -> 159 -> 156 -> 155 -> 154 -> 164 -> 165 -> 153 -> 147 -> 148 -> 152 -> 149 -> 150 -> 151 -> 141 -> 142 -> 143 -> 144 -> 146 -> 145 -> 157 -> 158 -> 135 -> 136 -> 140 -> 139 -> 138 -> 137 -> 134 -> 133 -> 132 -> 131 -> 130 -> 129 -> 128 -> 127 -> 126 -> 125 -> 124 -> 69 -> 70 -> 68 -> 67 -> 66 -> 65 -> 72 -> 71 -> 123 -> 122 -> 117 -> 116 -> 115 -> 114 -> 113 -> 112 -> 111 -> 110 -> 109 -> 108 -> 107 -> 542 -> 541 -> 543 -> 544 -> 545 -> 546 -> 547 -> 103 -> 104 -> 105 -> 106 -> 118 -> 121 -> 120 -> 119 -> 73 -> 74 -> 75 -> 76 -> 64 -> 62 -> 63 -> 60 -> 61 -> 79 -> 80 -> 81 -> 59 -> 58 -> 57 -> 82 -> 83 -> 84 -> 51 -> 50 -> 52 -> 53 -> 56 -> 55 -> 54 -> 49 -> 48 -> 47 -> 43 -> 44 -> 45 -> 46 -> 555 -> 556 -> 552 -> 553 -> 554 -> 91 -> 92 -> 93 -> 90 -> 85 -> 86 -> 87 -> 78 -> 77 -> 88 -> 89 -> 94 -> 97 -> 95 -> 96 -> 98 -> 99 -> 100 -> 102 -> 101 -> 551 -> 550 -> 559 -> 558 -> 557 -> 40 -> 41 -> 42 -> 39 -> 38 -> 37 -> 36 -> 35 -> 34 -> 33 -> 32 -> 30 -> 31 -> 29 -> 28 -> 27 -> 26 -> 25 -> 24 -> 22 -> 23 -> 12 -> 13 -> 21 -> 20 -> 19 -> 568 -> 569 -> 570 -> 571 -> 573 -> 572 -> 8 -> 17 -> 18 -> 16 -> 15 -> 14 -> 11 -> 10 -> 9 -> 7 -> 6 -> 5 -> 0\n",
      "\n"
     ]
    }
   ],
   "source": [
    "filename = 'data/tsp_574_1'\n",
    "OR_tsp_solver(filename)"
   ]
  },
  {
   "cell_type": "code",
   "execution_count": 38,
   "metadata": {},
   "outputs": [
    {
     "name": "stdout",
     "output_type": "stream",
     "text": [
      "Objective: 332021 miles\n",
      "Route for vehicle 0:\n",
      " 0 -> 3 -> 1866 -> 881 -> 1732 -> 1783 -> 1834 -> 1794 -> 548 -> 546 -> 385 -> 1253 -> 1252 -> 1021 -> 181 -> 255 -> 215 -> 480 -> 751 -> 1701 -> 1729 -> 923 -> 258 -> 437 -> 448 -> 502 -> 308 -> 661 -> 444 -> 384 -> 1416 -> 1616 -> 1617 -> 19 -> 372 -> 547 -> 1599 -> 541 -> 1046 -> 318 -> 386 -> 419 -> 966 -> 965 -> 964 -> 963 -> 162 -> 967 -> 407 -> 251 -> 1511 -> 1644 -> 1047 -> 1645 -> 1646 -> 1600 -> 316 -> 1589 -> 1647 -> 1648 -> 1656 -> 1657 -> 1501 -> 1658 -> 300 -> 1605 -> 706 -> 90 -> 20 -> 1651 -> 1726 -> 1590 -> 705 -> 1601 -> 783 -> 721 -> 1877 -> 1777 -> 1831 -> 1048 -> 968 -> 1260 -> 1259 -> 704 -> 1536 -> 782 -> 1233 -> 1830 -> 89 -> 1697 -> 1620 -> 1635 -> 45 -> 61 -> 719 -> 720 -> 1122 -> 1815 -> 252 -> 254 -> 1654 -> 476 -> 1261 -> 969 -> 196 -> 970 -> 214 -> 253 -> 531 -> 273 -> 127 -> 317 -> 315 -> 420 -> 520 -> 479 -> 408 -> 387 -> 148 -> 344 -> 471 -> 1602 -> 836 -> 1591 -> 373 -> 319 -> 323 -> 794 -> 568 -> 472 -> 271 -> 333 -> 304 -> 336 -> 337 -> 686 -> 474 -> 299 -> 334 -> 250 -> 328 -> 338 -> 303 -> 335 -> 707 -> 595 -> 544 -> 394 -> 734 -> 272 -> 477 -> 456 -> 249 -> 354 -> 723 -> 445 -> 662 -> 309 -> 503 -> 449 -> 438 -> 259 -> 924 -> 732 -> 606 -> 374 -> 401 -> 427 -> 365 -> 524 -> 607 -> 752 -> 481 -> 256 -> 182 -> 216 -> 193 -> 142 -> 263 -> 415 -> 1027 -> 1026 -> 1025 -> 1024 -> 145 -> 1016 -> 1015 -> 389 -> 1014 -> 1731 -> 1771 -> 1460 -> 1630 -> 1770 -> 1676 -> 1419 -> 1769 -> 1665 -> 1615 -> 1420 -> 1666 -> 1502 -> 1768 -> 1652 -> 1592 -> 1603 -> 1767 -> 1766 -> 1765 -> 388 -> 1051 -> 212 -> 195 -> 475 -> 320 -> 447 -> 161 -> 473 -> 279 -> 226 -> 610 -> 717 -> 220 -> 187 -> 470 -> 637 -> 634 -> 363 -> 685 -> 617 -> 312 -> 311 -> 305 -> 645 -> 639 -> 154 -> 680 -> 452 -> 277 -> 378 -> 140 -> 431 -> 675 -> 455 -> 689 -> 564 -> 301 -> 559 -> 562 -> 772 -> 269 -> 468 -> 210 -> 248 -> 811 -> 754 -> 825 -> 294 -> 584 -> 276 -> 821 -> 774 -> 268 -> 422 -> 759 -> 867 -> 943 -> 237 -> 863 -> 853 -> 383 -> 280 -> 757 -> 817 -> 848 -> 838 -> 780 -> 428 -> 699 -> 786 -> 842 -> 852 -> 746 -> 829 -> 857 -> 778 -> 756 -> 204 -> 814 -> 636 -> 805 -> 792 -> 810 -> 789 -> 1206 -> 1207 -> 1208 -> 1209 -> 1210 -> 1211 -> 1212 -> 1213 -> 1214 -> 180 -> 560 -> 13 -> 14 -> 1401 -> 1307 -> 16 -> 11 -> 1608 -> 1003 -> 1808 -> 432 -> 211 -> 826 -> 1595 -> 1517 -> 823 -> 1494 -> 12 -> 179 -> 1373 -> 822 -> 281 -> 1542 -> 1334 -> 1541 -> 1540 -> 1539 -> 913 -> 1204 -> 945 -> 1538 -> 1537 -> 1696 -> 1859 -> 1001 -> 912 -> 1811 -> 1790 -> 1071 -> 911 -> 910 -> 905 -> 909 -> 906 -> 1070 -> 1789 -> 1810 -> 907 -> 1000 -> 1858 -> 1695 -> 908 -> 1332 -> 1333 -> 1205 -> 178 -> 185 -> 567 -> 466 -> 493 -> 435 -> 298 -> 350 -> 803 -> 122 -> 223 -> 800 -> 362 -> 797 -> 510 -> 139 -> 208 -> 441 -> 239 -> 411 -> 741 -> 153 -> 403 -> 807 -> 998 -> 138 -> 999 -> 207 -> 1692 -> 1693 -> 1694 -> 118 -> 123 -> 949 -> 1604 -> 1825 -> 1203 -> 116 -> 651 -> 1202 -> 1331 -> 1330 -> 1329 -> 1328 -> 206 -> 440 -> 137 -> 796 -> 361 -> 509 -> 222 -> 349 -> 799 -> 802 -> 434 -> 125 -> 297 -> 566 -> 809 -> 492 -> 465 -> 177 -> 184 -> 788 -> 64 -> 1298 -> 104 -> 102 -> 115 -> 1804 -> 111 -> 105 -> 1372 -> 1543 -> 106 -> 1516 -> 33 -> 1400 -> 1306 -> 15 -> 10 -> 1607 -> 1002 -> 44 -> 1525 -> 1072 -> 1619 -> 1634 -> 87 -> 60 -> 364 -> 1699 -> 92 -> 1829 -> 1232 -> 609 -> 225 -> 160 -> 1535 -> 446 -> 159 -> 126 -> 962 -> 730 -> 313 -> 769 -> 630 -> 659 -> 961 -> 960 -> 959 -> 958 -> 957 -> 956 -> 955 -> 608 -> 186 -> 469 -> 1698 -> 684 -> 1528 -> 1527 -> 1526 -> 1614 -> 1007 -> 1006 -> 1005 -> 1004 -> 1609 -> 1399 -> 585 -> 820 -> 91 -> 716 -> 1493 -> 819 -> 236 -> 1807 -> 1806 -> 1805 -> 1803 -> 114 -> 101 -> 1297 -> 1296 -> 777 -> 113 -> 851 -> 698 -> 816 -> 382 -> 1371 -> 1395 -> 1396 -> 245 -> 1397 -> 246 -> 1398 -> 275 -> 1492 -> 864 -> 110 -> 1515 -> 1305 -> 1118 -> 17 -> 18 -> 1495 -> 1496 -> 688 -> 377 -> 451 -> 1013 -> 1621 -> 1636 -> 954 -> 1625 -> 1078 -> 53 -> 1613 -> 76 -> 75 -> 1738 -> 1499 -> 65 -> 9 -> 1498 -> 1737 -> 96 -> 97 -> 1612 -> 83 -> 1012 -> 1077 -> 1633 -> 1624 -> 1531 -> 59 -> 953 -> 94 -> 1828 -> 1231 -> 1324 -> 1337 -> 1534 -> 1121 -> 729 -> 1814 -> 1258 -> 1427 -> 1510 -> 1125 -> 1797 -> 1833 -> 1764 -> 1673 -> 47 -> 1055 -> 519 -> 1796 -> 1124 -> 1509 -> 1426 -> 1257 -> 1813 -> 761 -> 1120 -> 1533 -> 1336 -> 42 -> 219 -> 1230 -> 1827 -> 93 -> 952 -> 58 -> 1530 -> 1623 -> 1632 -> 1076 -> 1011 -> 679 -> 77 -> 78 -> 1611 -> 1010 -> 1075 -> 1631 -> 1622 -> 1529 -> 57 -> 951 -> 79 -> 1826 -> 1229 -> 41 -> 1335 -> 1532 -> 1119 -> 664 -> 748 -> 1812 -> 1256 -> 1425 -> 1508 -> 1123 -> 1795 -> 749 -> 1762 -> 666 -> 665 -> 478 -> 1832 -> 1763 -> 762 -> 1650 -> 1597 -> 1879 -> 1403 -> 1887 -> 1725 -> 1594 -> 1643 -> 1407 -> 1406 -> 1405 -> 1404 -> 660 -> 631 -> 770 -> 1598 -> 1056 -> 1637 -> 1638 -> 1639 -> 1640 -> 1641 -> 314 -> 731 -> 393 -> 1653 -> 1408 -> 1409 -> 1410 -> 1411 -> 1412 -> 1413 -> 1414 -> 307 -> 1521 -> 1522 -> 1523 -> 1520 -> 1627 -> 1507 -> 1760 -> 545 -> 1421 -> 1664 -> 1618 -> 1500 -> 1503 -> 1424 -> 80 -> 1519 -> 1626 -> 1506 -> 1606 -> 1423 -> 1663 -> 1778 -> 1642 -> 1593 -> 1724 -> 1886 -> 1402 -> 1878 -> 1596 -> 1649 -> 1054 -> 750 -> 1127 -> 163 -> 1126 -> 227 -> 416 -> 412 -> 224 -> 747 -> 306 -> 310 -> 155 -> 141 -> 760 -> 768 -> 678 -> 629 -> 450 -> 302 -> 781 -> 812 -> 663 -> 376 -> 430 -> 674 -> 454 -> 687 -> 270 -> 558 -> 638 -> 728 -> 561 -> 771 -> 658 -> 467 -> 209 -> 644 -> 616 -> 753 -> 824 -> 293 -> 586 -> 158 -> 563 -> 274 -> 865 -> 773 -> 267 -> 421 -> 854 -> 866 -> 758 -> 283 -> 235 -> 244 -> 429 -> 849 -> 381 -> 818 -> 715 -> 815 -> 837 -> 830 -> 779 -> 697 -> 841 -> 247 -> 1394 -> 1393 -> 243 -> 1392 -> 1391 -> 1390 -> 1389 -> 242 -> 1388 -> 1387 -> 100 -> 745 -> 743 -> 856 -> 1386 -> 1385 -> 1295 -> 1201 -> 1228 -> 948 -> 1327 -> 997 -> 1301 -> 1068 -> 1069 -> 1302 -> 1788 -> 240 -> 1376 -> 1375 -> 241 -> 1067 -> 1377 -> 1378 -> 1379 -> 1380 -> 1381 -> 1382 -> 1383 -> 1384 -> 1227 -> 1226 -> 947 -> 1809 -> 99 -> 98 -> 1326 -> 1691 -> 1857 -> 996 -> 1300 -> 63 -> 1066 -> 742 -> 410 -> 238 -> 152 -> 635 -> 806 -> 491 -> 402 -> 439 -> 205 -> 136 -> 508 -> 795 -> 360 -> 221 -> 348 -> 798 -> 801 -> 433 -> 183 -> 565 -> 808 -> 296 -> 464 -> 124 -> 787 -> 176 -> 855 -> 203 -> 804 -> 650 -> 813 -> 755 -> 942 -> 791 -> 850 -> 776 -> 785 -> 744 -> 1065 -> 1374 -> 62 -> 1787 -> 1299 -> 995 -> 1856 -> 1690 -> 1325 -> 117 -> 295 -> 946 -> 649 -> 1200 -> 1294 -> 71 -> 790 -> 103 -> 839 -> 840 -> 282 -> 1544 -> 1545 -> 1489 -> 284 -> 1546 -> 1512 -> 1115 -> 1303 -> 971 -> 974 -> 973 -> 972 -> 8 -> 1304 -> 1116 -> 1513 -> 7 -> 557 -> 1490 -> 1491 -> 868 -> 109 -> 1514 -> 1117 -> 453 -> 673 -> 1497 -> 1736 -> 1779 -> 1780 -> 1610 -> 1009 -> 1074 -> 1008 -> 1073 -> 1079 -> 1080 -> 950 -> 1081 -> 1082 -> 1083 -> 1084 -> 1085 -> 395 -> 156 -> 399 -> 285 -> 1086 -> 1087 -> 1088 -> 1089 -> 1090 -> 1091 -> 157 -> 1092 -> 400 -> 286 -> 1093 -> 1094 -> 1095 -> 1096 -> 1097 -> 1098 -> 1099 -> 1100 -> 1101 -> 1102 -> 1103 -> 1104 -> 1105 -> 1547 -> 1504 -> 1548 -> 1422 -> 1549 -> 1550 -> 1505 -> 1551 -> 1518 -> 1552 -> 1553 -> 1106 -> 1107 -> 1108 -> 1109 -> 1110 -> 1111 -> 1112 -> 1113 -> 1114 -> 1017 -> 1359 -> 1554 -> 1254 -> 1158 -> 1288 -> 1318 -> 1358 -> 1357 -> 1356 -> 1355 -> 1354 -> 1353 -> 1352 -> 1351 -> 1350 -> 1349 -> 1348 -> 1347 -> 1346 -> 1345 -> 1344 -> 1343 -> 1342 -> 1341 -> 1340 -> 1339 -> 1338 -> 418 -> 414 -> 1052 -> 397 -> 396 -> 413 -> 417 -> 228 -> 229 -> 164 -> 1053 -> 1128 -> 1129 -> 1130 -> 1131 -> 1132 -> 1133 -> 1134 -> 1135 -> 1136 -> 1137 -> 1138 -> 1139 -> 1140 -> 1141 -> 1142 -> 1143 -> 1144 -> 1145 -> 1146 -> 1147 -> 1148 -> 1149 -> 1150 -> 1151 -> 1152 -> 1018 -> 1153 -> 1154 -> 1155 -> 1156 -> 1157 -> 1218 -> 1219 -> 1220 -> 1221 -> 1222 -> 1223 -> 486 -> 681 -> 549 -> 875 -> 518 -> 891 -> 625 -> 878 -> 618 -> 884 -> 501 -> 656 -> 874 -> 640 -> 889 -> 603 -> 555 -> 570 -> 941 -> 425 -> 543 -> 266 -> 917 -> 718 -> 936 -> 682 -> 463 -> 495 -> 575 -> 775 -> 86 -> 85 -> 1487 -> 5 -> 40 -> 66 -> 74 -> 1851 -> 46 -> 84 -> 49 -> 1865 -> 1888 -> 1735 -> 1836 -> 1776 -> 1844 -> 1840 -> 1225 -> 1874 -> 1781 -> 1727 -> 1555 -> 1556 -> 1557 -> 1224 -> 1558 -> 1559 -> 1560 -> 1561 -> 1562 -> 1563 -> 1564 -> 1565 -> 1566 -> 1567 -> 1568 -> 1569 -> 1570 -> 1486 -> 287 -> 1571 -> 1572 -> 1573 -> 1574 -> 1575 -> 1456 -> 1576 -> 1577 -> 288 -> 1363 -> 1578 -> 289 -> 1579 -> 1580 -> 1581 -> 1582 -> 1583 -> 1584 -> 1064 -> 290 -> 1585 -> 151 -> 406 -> 1677 -> 1678 -> 1679 -> 1457 -> 1670 -> 1680 -> 355 -> 1364 -> 1681 -> 356 -> 1682 -> 359 -> 484 -> 627 -> 528 -> 539 -> 147 -> 500 -> 231 -> 619 -> 845 -> 694 -> 371 -> 710 -> 615 -> 858 -> 218 -> 291 -> 594 -> 149 -> 767 -> 574 -> 861 -> 357 -> 404 -> 869 -> 708 -> 536 -> 765 -> 632 -> 580 -> 871 -> 583 -> 527 -> 232 -> 646 -> 894 -> 590 -> 641 -> 652 -> 342 -> 517 -> 261 -> 604 -> 900 -> 257 -> 1455 -> 1454 -> 1453 -> 1452 -> 1451 -> 1450 -> 1449 -> 1448 -> 1447 -> 1446 -> 1445 -> 1444 -> 1443 -> 1442 -> 1441 -> 1440 -> 1439 -> 1438 -> 1437 -> 1436 -> 1435 -> 1434 -> 1433 -> 1432 -> 1431 -> 1430 -> 1429 -> 1428 -> 1289 -> 1793 -> 409 -> 1748 -> 1752 -> 1753 -> 1754 -> 1755 -> 1756 -> 1757 -> 1488 -> 1758 -> 1759 -> 655 -> 262 -> 1864 -> 642 -> 1870 -> 526 -> 1365 -> 534 -> 1875 -> 1671 -> 1484 -> 667 -> 1876 -> 535 -> 668 -> 1791 -> 1683 -> 1837 -> 529 -> 1045 -> 1848 -> 1361 -> 1723 -> 1195 -> 1293 -> 95 -> 977 -> 976 -> 345 -> 497 -> 532 -> 329 -> 982 -> 1674 -> 325 -> 981 -> 1845 -> 321 -> 379 -> 490 -> 488 -> 898 -> 128 -> 522 -> 944 -> 928 -> 736 -> 537 -> 725 -> 843 -> 578 -> 172 -> 192 -> 596 -> 727 -> 202 -> 1198 -> 1251 -> 712 -> 600 -> 714 -> 1722 -> 696 -> 713 -> 599 -> 1199 -> 39 -> 601 -> 1868 -> 521 -> 1869 -> 975 -> 980 -> 937 -> 331 -> 930 -> 1659 -> 987 -> 1853 -> 931 -> 702 -> 739 -> 459 -> 623 -> 391 -> 552 -> 514 -> 134 -> 693 -> 932 -> 506 -> 131 -> 588 -> 324 -> 353 -> 347 -> 332 -> 1662 -> 120 -> 1660 -> 988 -> 1854 -> 121 -> 88 -> 938 -> 692 -> 994 -> 1863 -> 703 -> 740 -> 460 -> 1775 -> 1817 -> 1816 -> 550 -> 135 -> 457 -> 621 -> 939 -> 392 -> 700 -> 737 -> 515 -> 690 -> 933 -> 507 -> 589 -> 326 -> 132 -> 351 -> 926 -> 983 -> 986 -> 989 -> 990 -> 993 -> 1774 -> 1772 -> 1 -> 991 -> 1855 -> 505 -> 984 -> 1852 -> 1655 -> 978 -> 1588 -> 1587 -> 1197 -> 499 -> 1586 -> 1041 -> 1321 -> 38 -> 1060 -> 81 -> 1686 -> 25 -> 1059 -> 37 -> 1320 -> 1040 -> 1850 -> 1196 -> 1292 -> 1362 -> 1849 -> 43 -> 1319 -> 36 -> 1058 -> 24 -> 52 -> 1685 -> 483 -> 593 -> 1323 -> 1057 -> 56 -> 55 -> 1838 -> 1684 -> 1792 -> 54 -> 764 -> 581 -> 872 -> 895 -> 591 -> 643 -> 653 -> 343 -> 516 -> 1483 -> 260 -> 1482 -> 890 -> 676 -> 1672 -> 72 -> 73 -> 28 -> 1366 -> 1871 -> 30 -> 915 -> 903 -> 902 -> 914 -> 341 -> 1669 -> 1668 -> 935 -> 1798 -> 1703 -> 1799 -> 1800 -> 426 -> 918 -> 31 -> 1872 -> 233 -> 67 -> 1367 -> 29 -> 107 -> 1687 -> 82 -> 23 -> 1717 -> 1718 -> 1719 -> 1720 -> 1721 -> 1360 -> 1042 -> 1322 -> 1061 -> 1688 -> 70 -> 69 -> 647 -> 35 -> 1802 -> 613 -> 1842 -> 1861 -> 1705 -> 200 -> 605 -> 582 -> 525 -> 234 -> 579 -> 919 -> 763 -> 709 -> 405 -> 654 -> 358 -> 677 -> 482 -> 904 -> 916 -> 669 -> 573 -> 766 -> 901 -> 150 -> 592 -> 217 -> 614 -> 897 -> 873 -> 648 -> 146 -> 498 -> 230 -> 496 -> 870 -> 862 -> 633 -> 370 -> 695 -> 711 -> 189 -> 597 -> 859 -> 846 -> 576 -> 173 -> 489 -> 504 -> 513 -> 925 -> 733 -> 129 -> 556 -> 292 -> 533 -> 330 -> 346 -> 927 -> 352 -> 130 -> 587 -> 327 -> 934 -> 691 -> 133 -> 551 -> 899 -> 940 -> 701 -> 738 -> 622 -> 458 -> 390 -> 322 -> 380 -> 530 -> 494 -> 487 -> 628 -> 523 -> 929 -> 540 -> 538 -> 844 -> 735 -> 201 -> 726 -> 620 -> 724 -> 175 -> 1194 -> 1193 -> 1192 -> 1043 -> 1191 -> 1062 -> 1190 -> 1189 -> 1188 -> 1187 -> 1186 -> 170 -> 1185 -> 169 -> 1184 -> 1183 -> 1182 -> 1181 -> 168 -> 171 -> 1178 -> 1177 -> 1176 -> 1175 -> 1174 -> 1173 -> 1172 -> 167 -> 1171 -> 199 -> 198 -> 166 -> 922 -> 626 -> 512 -> 1751 -> 51 -> 921 -> 624 -> 1746 -> 511 -> 461 -> 462 -> 1819 -> 1820 -> 1821 -> 1822 -> 1823 -> 1846 -> 1706 -> 1862 -> 1179 -> 278 -> 683 -> 1239 -> 1240 -> 1241 -> 1242 -> 1243 -> 1244 -> 1245 -> 1246 -> 1063 -> 1247 -> 1044 -> 1248 -> 1249 -> 191 -> 1250 -> 598 -> 860 -> 847 -> 577 -> 174 -> 1843 -> 979 -> 985 -> 1661 -> 828 -> 992 -> 2 -> 1773 -> 48 -> 827 -> 190 -> 671 -> 672 -> 670 -> 443 -> 1689 -> 442 -> 572 -> 571 -> 1884 -> 1370 -> 920 -> 188 -> 1238 -> 1237 -> 1236 -> 1235 -> 1234 -> 1180 -> 1847 -> 1707 -> 1883 -> 1039 -> 1038 -> 1037 -> 1036 -> 144 -> 1035 -> 542 -> 569 -> 833 -> 1880 -> 832 -> 835 -> 119 -> 834 -> 1747 -> 831 -> 143 -> 1034 -> 1033 -> 1032 -> 1031 -> 1030 -> 1029 -> 1028 -> 1818 -> 1524 -> 108 -> 1761 -> 1785 -> 1786 -> 1162 -> 1163 -> 1164 -> 1165 -> 1166 -> 1167 -> 1168 -> 165 -> 1169 -> 1170 -> 197 -> 1867 -> 1745 -> 1734 -> 1784 -> 1835 -> 1839 -> 1885 -> 1291 -> 1161 -> 1287 -> 1286 -> 1285 -> 1023 -> 1217 -> 1284 -> 1283 -> 1282 -> 1281 -> 1280 -> 1279 -> 1278 -> 1277 -> 1276 -> 1275 -> 1274 -> 1273 -> 1272 -> 1317 -> 1316 -> 1315 -> 1314 -> 1313 -> 1312 -> 213 -> 1311 -> 1310 -> 1309 -> 1308 -> 1050 -> 1049 -> 1262 -> 1263 -> 1264 -> 1265 -> 194 -> 1266 -> 1267 -> 1268 -> 1269 -> 1270 -> 1271 -> 1675 -> 1418 -> 722 -> 1417 -> 784 -> 1629 -> 1459 -> 112 -> 1730 -> 1702 -> 1216 -> 1022 -> 1739 -> 1740 -> 1160 -> 1741 -> 1742 -> 485 -> 1743 -> 1744 -> 1733 -> 50 -> 885 -> 882 -> 876 -> 1749 -> 553 -> 4 -> 554 -> 877 -> 21 -> 883 -> 886 -> 893 -> 892 -> 879 -> 1750 -> 611 -> 612 -> 880 -> 22 -> 1882 -> 27 -> 1824 -> 1704 -> 1860 -> 1841 -> 1801 -> 34 -> 32 -> 1873 -> 68 -> 1369 -> 896 -> 1716 -> 369 -> 1368 -> 1715 -> 1714 -> 1713 -> 1712 -> 1711 -> 368 -> 1710 -> 1709 -> 1708 -> 26 -> 1881 -> 6 -> 888 -> 887 -> 423 -> 424 -> 265 -> 1485 -> 264 -> 366 -> 367 -> 340 -> 339 -> 657 -> 602 -> 1481 -> 1480 -> 1479 -> 1478 -> 1477 -> 1476 -> 1475 -> 1474 -> 1473 -> 1472 -> 1471 -> 1470 -> 1469 -> 1468 -> 1467 -> 1466 -> 1465 -> 1464 -> 1463 -> 1290 -> 1159 -> 1255 -> 1019 -> 1215 -> 1462 -> 1461 -> 1415 -> 1628 -> 1667 -> 1458 -> 375 -> 436 -> 1728 -> 1700 -> 1020 -> 793 -> 398 -> 1782 -> 0\n",
      "\n"
     ]
    }
   ],
   "source": [
    "filename = 'data/tsp_1889_1'\n",
    "OR_tsp_solver(filename)"
   ]
  },
  {
   "cell_type": "code",
   "execution_count": null,
   "metadata": {},
   "outputs": [],
   "source": []
  }
 ],
 "metadata": {
  "kernelspec": {
   "display_name": "Python 3",
   "language": "python",
   "name": "python3"
  },
  "language_info": {
   "codemirror_mode": {
    "name": "ipython",
    "version": 3
   },
   "file_extension": ".py",
   "mimetype": "text/x-python",
   "name": "python",
   "nbconvert_exporter": "python",
   "pygments_lexer": "ipython3",
   "version": "3.7.6"
  }
 },
 "nbformat": 4,
 "nbformat_minor": 4
}
