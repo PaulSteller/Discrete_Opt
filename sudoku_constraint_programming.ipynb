{
 "cells": [
  {
   "cell_type": "markdown",
   "metadata": {},
   "source": [
    "# Constraint Programming"
   ]
  },
  {
   "cell_type": "code",
   "execution_count": 4,
   "metadata": {},
   "outputs": [],
   "source": [
    "import constraint\n",
    "import numpy as np\n",
    "import time"
   ]
  },
  {
   "cell_type": "markdown",
   "metadata": {},
   "source": [
    "## Sudoku Puzzles\n",
    "\n",
    "additional puzzles can be found at: http://magictour.free.fr/top95"
   ]
  },
  {
   "cell_type": "code",
   "execution_count": 7,
   "metadata": {},
   "outputs": [],
   "source": [
    "def sudoku_solver(game):\n",
    "    start_time = time.time()\n",
    "    \n",
    "    #defining a function that prints the game board\n",
    "    def game_board(game):\n",
    "        for j in [0,27,54]:   \n",
    "            for i in range(3):\n",
    "                print(game[9*i + j], ' ', game[9*i+1 + j], ' ',game[9*i+2 + j], '|', \n",
    "                      game[9*i+3+ j], ' ', game[9*i+4 + j], ' ', game[9*i+5 + j], '|',\n",
    "                      game[9*i+6 + j], ' ',game[9*i+7 + j], ' ', game[9*i+8 + j])\n",
    "\n",
    "            if j != 54:\n",
    "                print('----------+-----------+----------')\n",
    "    \n",
    "    #print the original puzzle\n",
    "    print('Original Puzzle:\\n')\n",
    "    game_board(game)\n",
    "    \n",
    "\n",
    "    problem = constraint.Problem()\n",
    "\n",
    "    #creating the variables and fixing the values that are already given   \n",
    "    for i in range(81):\n",
    "        if game[i] != '.':\n",
    "            problem.addVariable(i, [int(game[i])])\n",
    "        else:\n",
    "            problem.addVariable(i, range(1,10))\n",
    "\n",
    "    #Constraint 1: each entry in each row is unique\n",
    "    for i in range(9):\n",
    "        problem.addConstraint(constraint.AllDifferentConstraint(), range(i * 9, i * 9 + 9))\n",
    "\n",
    "    #Constraint 2: each entry in each column is unique\n",
    "    for j in range(9):\n",
    "        problem.addConstraint(constraint.AllDifferentConstraint(), range(j, 81, 9))\n",
    "\n",
    "    #Constraint 3: each entry in each 3x3 square is unique\n",
    "    squares = []\n",
    "    for j in range(0,80,27):\n",
    "        for k in range(0,9,3):\n",
    "            squares.append(np.concatenate([[j+k+i, j+k+i+9, j+k+i+18] for i in range(3)]))\n",
    "\n",
    "    for l in range(9):\n",
    "        problem.addConstraint(constraint.AllDifferentConstraint(), [squares[l][g] for g in range(9)])\n",
    "\n",
    "    #solve the problem\n",
    "    solutions = problem.getSolutions()\n",
    "    \n",
    "    #reformatting the solution to be printed\n",
    "    game_solution = game\n",
    "    for i in range(81):\n",
    "        game_solution = game_solution[:i] + str(solutions[0][i]) + game_solution[i + 1:]\n",
    "    \n",
    "    #print the solution\n",
    "    print('\\nSolution:\\n')\n",
    "    game_board(game_solution)\n",
    "    \n",
    "    #print the time taken\n",
    "    print('\\n--- solved in %s seconds ---' % round(time.time() - start_time, 4))"
   ]
  },
  {
   "cell_type": "code",
   "execution_count": 8,
   "metadata": {},
   "outputs": [
    {
     "name": "stdout",
     "output_type": "stream",
     "text": [
      "Original Puzzle:\n",
      "\n",
      "4   .   . | .   .   . | 8   .   5\n",
      ".   3   . | .   .   . | .   .   .\n",
      ".   .   . | 7   .   . | .   .   .\n",
      "----------+-----------+----------\n",
      ".   2   . | .   .   . | .   6   .\n",
      ".   .   . | .   8   . | 4   .   .\n",
      ".   .   . | .   1   . | .   .   .\n",
      "----------+-----------+----------\n",
      ".   .   . | 6   .   3 | .   7   .\n",
      "5   .   . | 2   .   . | .   .   .\n",
      "1   .   4 | .   .   . | .   .   .\n",
      "\n",
      "Solution:\n",
      "\n",
      "4   1   7 | 3   6   9 | 8   2   5\n",
      "6   3   2 | 1   5   8 | 9   4   7\n",
      "9   5   8 | 7   2   4 | 3   1   6\n",
      "----------+-----------+----------\n",
      "8   2   5 | 4   3   7 | 1   6   9\n",
      "7   9   1 | 5   8   6 | 4   3   2\n",
      "3   4   6 | 9   1   2 | 7   5   8\n",
      "----------+-----------+----------\n",
      "2   8   9 | 6   4   3 | 5   7   1\n",
      "5   7   3 | 2   9   1 | 6   8   4\n",
      "1   6   4 | 8   7   5 | 2   9   3\n",
      "\n",
      "--- solved in 0.186 seconds ---\n"
     ]
    }
   ],
   "source": [
    "game_1 = '4.....8.5.3..........7......2.....6.....8.4......1.......6.3.7.5..2.....1.4......'\n",
    "sudoku_solver(game_1)"
   ]
  },
  {
   "cell_type": "code",
   "execution_count": 5,
   "metadata": {},
   "outputs": [
    {
     "name": "stdout",
     "output_type": "stream",
     "text": [
      "Original Puzzle:\n",
      "\n",
      "3   .   . | .   8   . | .   .   .\n",
      ".   .   . | 7   .   . | .   .   5\n",
      "1   .   . | .   .   . | .   .   .\n",
      "----------+-----------+----------\n",
      ".   .   . | .   .   . | 3   6   .\n",
      ".   .   2 | .   .   4 | .   .   .\n",
      ".   7   . | .   .   . | .   .   .\n",
      "----------+-----------+----------\n",
      ".   .   . | .   6   . | 1   3   .\n",
      ".   4   5 | 2   .   . | .   .   .\n",
      ".   .   . | .   .   . | 8   .   .\n",
      "\n",
      "Solution:\n",
      "\n",
      "3   5   4 | 1   8   6 | 9   2   7\n",
      "2   9   8 | 7   4   3 | 6   1   5\n",
      "1   6   7 | 9   5   2 | 4   8   3\n",
      "----------+-----------+----------\n",
      "4   8   1 | 5   2   7 | 3   6   9\n",
      "9   3   2 | 6   1   4 | 5   7   8\n",
      "5   7   6 | 3   9   8 | 2   4   1\n",
      "----------+-----------+----------\n",
      "7   2   9 | 8   6   5 | 1   3   4\n",
      "8   4   5 | 2   3   1 | 7   9   6\n",
      "6   1   3 | 4   7   9 | 8   5   2\n",
      "\n",
      "--- solved in 0.4546 seconds ---\n"
     ]
    }
   ],
   "source": [
    "game_2 = '3...8.......7....51..............36...2..4....7...........6.13..452...........8..'\n",
    "sudoku_solver(game_2)"
   ]
  },
  {
   "cell_type": "markdown",
   "metadata": {},
   "source": [
    "#### Below is the world's hardest sudoku??\n",
    "\n",
    "(that is, according to https://www.mirror.co.uk/news/weird-news/worlds-hardest-sudoku-can-you-242294)"
   ]
  },
  {
   "cell_type": "code",
   "execution_count": 48,
   "metadata": {},
   "outputs": [
    {
     "name": "stdout",
     "output_type": "stream",
     "text": [
      "Original Puzzle:\n",
      "\n",
      ".   .   5 | 3   .   . | .   .   .\n",
      "8   .   . | .   .   . | .   2   .\n",
      ".   7   . | .   1   . | 5   .   .\n",
      "----------+-----------+----------\n",
      "4   .   . | .   .   5 | 3   .   .\n",
      ".   1   . | .   7   . | .   .   6\n",
      ".   .   3 | 2   .   . | .   8   .\n",
      "----------+-----------+----------\n",
      ".   6   . | 5   .   . | .   .   9\n",
      ".   .   4 | .   .   . | .   3   .\n",
      ".   .   . | .   .   9 | 7   .   .\n",
      "\n",
      "Solution:\n",
      "\n",
      "1   4   5 | 3   2   7 | 6   9   8\n",
      "8   3   9 | 6   5   4 | 1   2   7\n",
      "6   7   2 | 9   1   8 | 5   4   3\n",
      "----------+-----------+----------\n",
      "4   9   6 | 1   8   5 | 3   7   2\n",
      "2   1   8 | 4   7   3 | 9   5   6\n",
      "7   5   3 | 2   9   6 | 4   8   1\n",
      "----------+-----------+----------\n",
      "3   6   7 | 5   4   2 | 8   1   9\n",
      "9   8   4 | 7   6   1 | 2   3   5\n",
      "5   2   1 | 8   3   9 | 7   6   4\n",
      "\n",
      "--- solved in 0.1179 seconds ---\n"
     ]
    }
   ],
   "source": [
    "hardest_game = '..53.....8......2..7..1.5..4....53...1..7...6..32...8..6.5....9..4....3......97..'\n",
    "sudoku_solver(hardest_game)"
   ]
  },
  {
   "cell_type": "markdown",
   "metadata": {},
   "source": [
    " #### The \"hardest game of sudoku\" can be solved with this algorithm in about 0.1 seconds"
   ]
  }
 ],
 "metadata": {
  "kernelspec": {
   "display_name": "Python 3",
   "language": "python",
   "name": "python3"
  },
  "language_info": {
   "codemirror_mode": {
    "name": "ipython",
    "version": 3
   },
   "file_extension": ".py",
   "mimetype": "text/x-python",
   "name": "python",
   "nbconvert_exporter": "python",
   "pygments_lexer": "ipython3",
   "version": "3.7.6"
  }
 },
 "nbformat": 4,
 "nbformat_minor": 4
}
